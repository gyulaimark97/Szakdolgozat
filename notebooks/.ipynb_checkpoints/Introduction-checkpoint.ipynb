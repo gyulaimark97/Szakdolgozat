{
 "cells": [
  {
   "cell_type": "markdown",
   "metadata": {},
   "source": [
    "# Bevezető"
   ]
  },
  {
   "cell_type": "markdown",
   "metadata": {},
   "source": [
    "Ebben a rövid fejezetben szeretném a kedves olvasónak reprezentálni miről is szól a szakdolgozat, mi a témája, mit használtam fel benne, mire is van szükség ha ki szeretné próbálni a benne található kódokat. Vágjunk is bele!\n",
    "Először is a téma: a szakdolgozat témája a tanult numerikus számítási ejárások python környezetben való bemutatása. Ilyen numerikus problémák például a mátrix transzponálás mátrix felbontások (LU, cholesky), lineáris egyenetrendszerek megoldása, interpolációk felírása, vagy a numerikus deriválás és integrálás. A numerikus eljárások mindig valamilyen az egzakt megoldáshoz közelítő értéket fognak megadni. Ilyen problémákra már sokféle szoftvert fejlesztettek ki mint például a Matlab, de akár az R környezetet is használhatjuk ilyen célokra. De akkor miért python?- teheti fel a kérdést a kedves olvasó. A válaszom pedig az, hogy szeretném bemutatni, hogy, mint sokminden máshoz ehez is tökéletesen megfelel és könnyen használható ez a nyelv. A következő sorokban magáról a python nyelvről fogok írni általánosan. "
   ]
  },
  {
   "cell_type": "markdown",
   "metadata": {},
   "source": [
    "### Mi is az a python?"
   ]
  },
  {
   "cell_type": "markdown",
   "metadata": {},
   "source": [
    "A python egy nagyon magas szintű, platform független, általános programozási nyelv szóval itt nem a kígyófélék egy családjára vagy Monty Pythonra (bár a nevét a a Monty Python csapatról kapta) kell gondolni. Egy könnyen elsajátítható programozási nyelv mely jelen pillanatban a 3 legnépszerűbb a világon (2020 Február). A nyelv interpreteses és támogatja a objektum orientált, az imperatív és a procedurális programozási paradigmákat, valamint a dinamikus típusokat és dinamikus memóriakezelést (használ garbage collectort). A nyelvet Guido van Rossum holland programozó kezdett el fejleszteni 1989-ben, majd nyilvánosságra hozta 1991-ben ez volt a 0.9-es verziószámú. 1994-ben megjelent az 1.0-ás majd 2000-ben a 2.0-ás verzió és csak 2008-ban követte a dolgozatban általam is használt python3 (3.0). A a 3-as és a 2-es nem minden esetben kompatibilis egymással és a 2-es utolsó támogatott verzióinak (2.7.x) a támogatása is megszűnt idén (2020) januárban. A nyelvet napjainkban már a PSF (Python Software Foundation) fejleszti és kezeli."
   ]
  },
  {
   "cell_type": "markdown",
   "metadata": {},
   "source": [
    "### Felhasználása különböző területeken "
   ]
  },
  {
   "cell_type": "markdown",
   "metadata": {},
   "source": [
    "A pythont sok területen felhasználják ezen belül:\n",
    "\n",
    "- Webfejlesztésben\n",
    "- Tudományos és numerikus számításoknál\n",
    "- Oktatásban\n",
    "- Asztali grafikus felhasználói felűletek (GUI) fejlesztésében\n",
    "- Szoftverfejlesztésben\n",
    "- Üzleti szoftverek fejlesztésében\n",
    "\n",
    "Látható tehát hogy tényleg sok helyen jól használható ez a nyelv"
   ]
  },
  {
   "cell_type": "markdown",
   "metadata": {},
   "source": [
    "### Mi szükséges a  hozzá?"
   ]
  },
  {
   "cell_type": "markdown",
   "metadata": {},
   "source": [
    "Tulajdon képpen csak egy számítógép és a python interpreter és egy támogatott operációs rendszer amit nem lesz nehéz találni hiszen a nyelv minden ma használt és elterjedt operációs rendszert támogat. Az interpreter pedig letölthető a python weboldaláról (www.python.org), illetve egyes operációs rendszerekben alapból telepítve van (különböző linux disztribúciók)."
   ]
  },
  {
   "cell_type": "markdown",
   "metadata": {},
   "source": [
    "### Milyen problémákkal fog foglalkozni a dolgozat?"
   ]
  },
  {
   "cell_type": "markdown",
   "metadata": {},
   "source": [
    "Ahogy már fent említettem a dolgozat pythonban fogja bemutatni a tanult numerikus problémákat és  módszereket, melyekkel egy közelítő megoldást adhatunk egy-egy problémára.\n",
    "Ilyen prolémák:\n",
    "- Hibaszámítás: Abszulút és relatív hiba\n",
    "- Vektor és mátrix műveletek\n",
    "- Lineáris egyenletrendszerek megoldása\n",
    "- Interpolációk\n",
    "- Numerikus deriválás\n",
    "- Numerikus Integrálás\n",
    "- Sajátérték és sajátvektor\n",
    "\n",
    "Ezeken belül is az ilyen módszerekkel fogok dolgozni, mint például:\n",
    "- Gauss módszer\n",
    "- Gauss-Jordan módszer\n",
    "- Legkissebb négyzetek módszere\n",
    "- Lagrange interpolációk \n",
    "- Spline interpolációk\n",
    "- Téglalap módszer\n",
    "- Trapéz módszer"
   ]
  }
 ],
 "metadata": {
  "kernelspec": {
   "display_name": "Python 3",
   "language": "python",
   "name": "python3"
  },
  "language_info": {
   "codemirror_mode": {
    "name": "ipython",
    "version": 3
   },
   "file_extension": ".py",
   "mimetype": "text/x-python",
   "name": "python",
   "nbconvert_exporter": "python",
   "pygments_lexer": "ipython3",
   "version": "3.6.9"
  }
 },
 "nbformat": 4,
 "nbformat_minor": 4
}
