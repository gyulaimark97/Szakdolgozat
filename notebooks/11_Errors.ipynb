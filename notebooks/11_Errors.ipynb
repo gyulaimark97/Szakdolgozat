{
 "cells": [
  {
   "cell_type": "markdown",
   "metadata": {},
   "source": [
    "# Hibák"
   ]
  },
  {
   "cell_type": "markdown",
   "metadata": {},
   "source": [
    "\n",
    "Mikor hibáról beszélünk akkor sok mindenre gondolhatunk, például egy program írása közben kaphatunk futásidejű vagy fordításiidejű hibákat, nincs ez másképp a való életben is lehet hiba ha megteszünk valamit vagy ha éppen nem. Ez nincs másképp egy matematikai feladatnál sem. Ebben az esetben az alábbi hiba típusokról beszélhetünk:\n",
    "\n",
    " - Modellhiba: amikor a valóságnak csak egy közelítését használjuk egy feladat matematikat alakjának a felírásához.\n",
    " - Mérési vagy öröklött hiba: amikor a modell adatai a valós pontos értékeknek csak valamilyen közelítő értékei, ezek általában amérés pontosságától függnek \n",
    " - Műveleti és input hiba: ezek a hibák a számítógépen tárolt adatok számítógépen való ábrázolásánból adódó hibák. Ezek a számábrázolási hibák azért léphetnek fel, mivel a számítógépen a racionális számoknak is csak egy részhalmaza ábrázolható lebegő pontos aritmetikában. A műveletek elvégzésénél fel léphet kerekítés, túl- illetve alulcsordulás.\n",
    " - Képlethiba: amikor a végtelen eljárást véges számú lépés után leállítunk, közelítő eljárásokat alkalmazunk."
   ]
  },
  {
   "cell_type": "markdown",
   "metadata": {},
   "source": [
    "## Számábrázolás"
   ]
  },
  {
   "cell_type": "markdown",
   "metadata": {},
   "source": [
    "### Egész számok:\n",
    "\n",
    "Számítógenp az egész számokat előjeles vagy előjel nélküli bináris számként lehet elképzelni, ezáltal jellemzhetőek a számjegyek számával. Az egész számokat általában 2 vagy 4 byteon tároljuk el 2-es, 10-es vagy 16-os számrendszerben, ez az adott programozási nyelvtől függ. Az egészekkel végzett aritmetikai műveletek gyorsabbak a lebegő pontos számokkal végrehajtott aritmetikai műveleteknél és ezáltal egy algortimus lefutását fel tudja gyorsítani a használatuk és emellett hibamentesnek tekinthetőek ezek a műveletek. Használatuknál viszont vigyázni kell és alaposan át kell gondolni mikor hasznájuk, mert tulajdonképpen maradékosztályokban dolgozunk.\n",
    "\n",
    "### Lebegőpontos számok:\n",
    "\n",
    "![alt text](img/IEEE_754.svg \"IEEE754 szerinti lebegőpontos számábrázolás 64 biten\")\n",
    "\n",
    "Lebegő pontos számok esetében a számítógépek egy véges számhalmazt ábrázolnak és a számításokat is ezekkel a számokkal végzik el. Álatalában a lebegőpontos aritmetikát használják. Ennek nézzük meg a modelljét:\n",
    "\n",
    "#### Definíció:\n",
    "A nem nulla lebegőpontos számok általános alakja:\n",
    "\n",
    "$$\n",
    "\\pm a^k(\\frac{m_1}{a}+\\frac{m_2}{a^2}+\\dots+\\frac{m_t}{a^t}),\n",
    "$$\n",
    "\n",
    "ahol $a>1$ a számábrázolás alapja, $\\pm$ az előjel, $t>1$ a számjegyek száma és $k\\in \\mathbb{Z}$ a kitevő.\n",
    "\n",
    "Az $m_1$ számjegy normalizált, $(1\\leq m_1 \\leq a-1)$ ez garantálja a az ábrázolás egyértelműségét.\n",
    "A többi számjegy:$1\\leq m_i \\leq a-1 \\quad (i=2,3,\\dots,t)$.\n",
    "A nulla az nem normalizált tehát $k=0, m_1=m_2=\\dots=m_t=0$ és az előjele általában $+$.\n",
    "A számábrázolás alpaja itt is lehet 2, 10, 16 vagy akár más is, átalában a programozási nyelven múlik melyiket használja.\n",
    "Pontosság szempontjából:\n",
    "- $t=8$ egyszeres pontosság\n",
    "- $t=16$ dubla pontosság\n",
    "\n",
    "\n",
    "A géptől és pontosságtól függően $m$ tárolására $32,64$ vagy $128$ bit áll rendelkezésünkre (ez rendre $4,8,16$ byte). Ezzel párhuzamosan nő a $k$ értékkészlete, és adott pontosság mellett:\n",
    "\n",
    "$$\n",
    " L \\leq k \\leq U.\n",
    "$$\n",
    "\n",
    "A legnagyobb ábrázolható szám:\n",
    "\n",
    "$$\n",
    "M^\\infty=a^U(1-a^-t)\n",
    "$$\n",
    "\n",
    "A legkissebb pedig:\n",
    "\n",
    "$$\n",
    "-M^\\infty\n",
    "$$\n",
    "\n",
    "A lebegőpontos számok a $[-M^\\infty,M^\\infty]$-beli számok diszkrét (racionális) részhalmazát alkotják és ez a részhalmaz a nullára nézve szimmetrikus.\n",
    "A nullához legközelebb eső lebegő pontos szám: $\\varepsilon_0=a^{L-1}$ és az $\\varepsilon_0$-hoz legközelebb eső szám pedig: $\\varepsilon_0(1+a^{1-t})$.\n",
    "\n",
    "A gép relatív pontossága vagy másképpen a gépi epszilon a $\\varepsilon_1=a^{1-t}.$\n"
   ]
  },
  {
   "cell_type": "markdown",
   "metadata": {},
   "source": [
    "## Klasszikus hiba analízis\n",
    "\n",
    "#### Definíció:\n",
    "Legyen $A$ egy pontos értékt és legyen $a$ ennek valamilyen közelítése. A $\\Delta a=A-a$ mennyiséget a közelítés hibájának nevezzük és a $|\\Delta a|=|A-a|$ pedig az abszolút hibájának. Azt a $\\delta a$ értéket pedig abszolút hibakorlátnak nevezzük amelyre fenáll, hogy $|A-a|=|\\Delta a| \\leq \\delta a$.\n",
    "\n",
    "Az $A$ szam valamilyen közelítő értékének a relatív hibája pedig a $\\frac {\\delta a} {A}$ mennyiség\n",
    "\n",
    "Az additív műveletek abszolút hibákorlátja pedig a következőek:\n",
    "\n",
    "$$\n",
    "\\delta(a+b)\\leq \\delta a+ \\delta b \\\\\n",
    "\\delta(a-b)\\leq \\delta a+ \\delta b\n",
    "$$\n",
    "\n",
    "Az multiplikatív műveletek abszolút hibákorlátjai:\n",
    "\n",
    "$$\n",
    "\\delta(ab) \\approx |a|\\delta b +|b| \\delta a \\\\\n",
    "\\delta(a/b) \\approx  \\frac {|a|\\delta b +|b| \\delta a}{|b|^2}\n",
    "$$\n",
    "\n",
    "Az aritmetikai műveletek relatív hibakorlátjai a következőek, feltéve hogy a nevező sehol sem nulla és az additív műveleteknél az operandusok megegyező előjelűek:\n",
    "\n",
    "$$\n",
    "\\frac{\\delta(a+b)} {|a+b|} =  max( \\frac{\\delta a}{|a|}, \\frac{\\delta b}{|b|} ) \\\\\n",
    "\\frac{\\delta(a-b)} {|a-b|} = \\frac{\\delta a + \\delta b} {|a-b|} \\\\\n",
    "\\frac{\\delta(ab)} {|ab|} \\approx \\frac{\\delta a}{|a|} + \\frac{\\delta b}{|b|} \\\\\n",
    "\\frac{\\delta(\\frac {a}{b})} {|\\frac {a}{b}|} \\approx \\frac{\\delta a}{|a|} + \\frac{\\delta b}{|b|}\n",
    "$$\n",
    "\n"
   ]
  }
 ],
 "metadata": {
  "kernelspec": {
   "display_name": "Python 3",
   "language": "python",
   "name": "python3"
  },
  "language_info": {
   "codemirror_mode": {
    "name": "ipython",
    "version": 3
   },
   "file_extension": ".py",
   "mimetype": "text/x-python",
   "name": "python",
   "nbconvert_exporter": "python",
   "pygments_lexer": "ipython3",
   "version": "3.6.9"
  }
 },
 "nbformat": 4,
 "nbformat_minor": 2
}
