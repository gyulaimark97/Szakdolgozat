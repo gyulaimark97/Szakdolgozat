{
 "cells": [
  {
   "cell_type": "markdown",
   "metadata": {},
   "source": [
    "# Forrásaim:"
   ]
  },
  {
   "cell_type": "markdown",
   "metadata": {},
   "source": [
    "- https://www.uni-miskolc.hu/~matha/ - anyag a lineáris algebrához\n",
    "> - https://www.uni-miskolc.hu/~matha/Numerikus_1ea.pdf\n",
    "> - https://www.uni-miskolc.hu/~matha/Numerikus_2ea.pdf\n",
    "> - https://www.uni-miskolc.hu/~matha/Numerikus_3ea.pdf\n",
    "> - https://www.uni-miskolc.hu/~matha/Numerikus_4ea.pdf\n",
    "> - https://www.uni-miskolc.hu/~matha/Numerikus_05ea.pdf\n",
    "> - https://www.uni-miskolc.hu/~matha/Numerikus_06ea.pdf\n",
    "> - https://www.uni-miskolc.hu/~matha/Numerikus_07ea.pdf\n",
    "> - https://www.uni-miskolc.hu/~matha/Numerikus_08ea.pdf\n",
    "> - https://www.uni-miskolc.hu/~matha/Numerikus_0910ea.pdf\n",
    "> - https://www.uni-miskolc.hu/~matha/NumAnal_1ea.pdf\n",
    "> - https://www.uni-miskolc.hu/~matha/NumAnal_2ea.pdf\n",
    "> - https://www.uni-miskolc.hu/~matha/NumAnal_3ea.pdf\n",
    "- https://docs.scipy.org/doc/ - SciPy dokumentáció\n",
    "- https://numpy.org/doc/ - NumPy dokumentáció\n",
    "- https://www.python.org/ - Python weboldala\n",
    "- https://docs.python.org/3/ - Python dokumentáció\n",
    "- https://pypi.org/project/pip/ - pip (Package installer for Python) dokumentáció\n",
    "- https://www.w3schools.com/Python/default.asp - Python segédanyag\n",
    "- https://jupyter.org/ - Jupyter munkafüzet weboldala\n",
    "- https://www.tiobe.com/tiobe-index/ - programozási nyelvek listája népszerűség szerint\n",
    "- https://hu.wikipedia.org/wiki/Python_(programoz%C3%A1si_nyelv) , https://en.wikipedia.org/wiki/Python_(programming_language) - általánosan a nyelvről\n",
    "- https://www.mathworks.com/ -Matlab\n",
    "- https://matplotlib.org/ - Matplotlib\n",
    "- https://www.r-project.org/ - GNU R\n",
    "- https://www.maplesoft.com/ - Maple\n",
    "- https://www.wolframalpha.com/ -Wolfram Alpha\n",
    "- https://www.wolfram.com/mathematica/ - Wolfram Matematica\n",
    "- https://gcc.gnu.org/fortran/, https://wg5-fortran.org/  -Fortran\n",
    "- https://ipython.org/index.html -IPhyton\n",
    "- https://www.jetbrains.com/pycharm/ -pycharm\n",
    "- https://jupyter.org/ -jupyter\n",
    "- https://www.spyder-ide.org/ -spyder\n",
    "- https://en.wikipedia.org/wiki/Maple_(software) -maple képernyőkép\n",
    "- https://blogs.mathworks.com/community/2009/06/29/what-does-your-matlab-desktop-look-like-again/ -matlab képernyő kép\n",
    "- https://software.intel.com/en-us/mkl-developer-reference-c-lapack-routines -LAPACK rutinok\n",
    "- https://software.intel.com/en-us/mkl-developer-reference-c-lapack-linear-equation-driver-routines -LAPACK gesv\n",
    "- https://jakevdp.github.io/PythonDataScienceHandbook/04.12-three-dimensional-plotting.html -3Dploting\n",
    "- https://ipywidgets.readthedocs.io/en/latest/index.html -jupyter widgets\n",
    "- https://www.cairographics.org/\n",
    "- https://www.cairographics.org/pycairo/\n",
    "- https://pandas.pydata.org/pandas-docs/stable/reference/api/pandas.DataFrame.html\n",
    "- https://docs.sympy.org/latest/index.html\n",
    "- https://www.iso.org/standard/57469.html\n",
    "- https://hu.wikipedia.org/wiki/IEEE_lebeg%C5%91pontos_sz%C3%A1mform%C3%A1tum"
   ]
  },
  {
   "cell_type": "code",
   "execution_count": null,
   "metadata": {},
   "outputs": [],
   "source": []
  }
 ],
 "metadata": {
  "kernelspec": {
   "display_name": "Python 3",
   "language": "python",
   "name": "python3"
  },
  "language_info": {
   "codemirror_mode": {
    "name": "ipython",
    "version": 3
   },
   "file_extension": ".py",
   "mimetype": "text/x-python",
   "name": "python",
   "nbconvert_exporter": "python",
   "pygments_lexer": "ipython3",
   "version": "3.6.9"
  }
 },
 "nbformat": 4,
 "nbformat_minor": 4
}
