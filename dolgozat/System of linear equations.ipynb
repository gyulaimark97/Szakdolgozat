{
 "cells": [
  {
   "cell_type": "markdown",
   "metadata": {},
   "source": [
    "# Lineáris egyenletrendszerek"
   ]
  },
  {
   "cell_type": "markdown",
   "metadata": {},
   "source": [
    "## Általánosan a lineáris egyenletredszerekről"
   ]
  },
  {
   "cell_type": "markdown",
   "metadata": {},
   "source": [
    "A lineáris egyenletrendszer egy többismeretlenes egyenletrendszer melyben az ismeretenek az első hatványon vannak."
   ]
  },
  {
   "cell_type": "markdown",
   "metadata": {},
   "source": [
    "Egy $n$ egyenlet és $m$ változó esetén az egyenletrendszer általános alakja a következő:           "
   ]
  },
  {
   "cell_type": "markdown",
   "metadata": {},
   "source": [
    "$$\n",
    "x_{1,1} + x_{1,2} + \\dots + x_{1,m} = b_{1}\\\\\n",
    "x_{2,1} + x_{2,2} + \\dots + x_{2,m} = b_{2}\\\\\n",
    "\\vdots\\\\\n",
    "x_{i,1} + x_{i,2} + \\dots + x_{i,m} = b_{i}\\\\\n",
    "\\vdots\\\\\n",
    "x_{n,1} + x_{n,2} + \\dots + x_{n,m} = b_{n}\\\\\n",
    "$$"
   ]
  },
  {
   "cell_type": "markdown",
   "metadata": {},
   "source": [
    "Aztmondjuk hogy az egyenlet rendszer alulhatárolt, hogyha $n<m$ és tulhatárolt, hogyha $n>m$.\n",
    "Négyzetesnek nevezzük ha $m=n$\n",
    "Az egyenletrendszer geometriai tartalmát az alábbi módon írhatjuk le:"
   ]
  },
  {
   "cell_type": "markdown",
   "metadata": {},
   "source": [
    "Az $R^n$ euklideszi tér $d\\in R^n$ normálvektorú és $x_0\\in R^n$ ponton ́atmenő hipersíkját az\n",
    "$$(x - x_0)^Td= 0$$ egyenletet kielegıtő $x\\in R^n$ pontok határozzák meg."
   ]
  },
  {
   "cell_type": "markdown",
   "metadata": {},
   "source": [
    "Az $Ax=b$ egyenletrendszert felírhatjuk ilyen formában is:  "
   ]
  },
  {
   "cell_type": "markdown",
   "metadata": {},
   "source": [
    "$$ \n",
    "a_{1}^Tx= b_1\\\\\n",
    "a_{2}^Tx= b_2\\\\\n",
    "\\vdots\\\\\n",
    "a_{n}^Tx= b_n\\\\\n",
    "$$"
   ]
  },
  {
   "cell_type": "markdown",
   "metadata": {},
   "source": [
    "ahol $a_{i}^T={a_{i1}, \\dots a_{im}}$"
   ]
  },
  {
   "cell_type": "markdown",
   "metadata": {},
   "source": [
    "Innen láthatjuk, hogy az egynletrendszer megoldása az $m$ hipőersík közös része, ennek megfelelően 3 megoldás lehetséges:\n",
    "1. lehetőség: nincs megolás\n",
    "2. lehetőség: pontosan egy megoldása van\n",
    "3. lehetőség: végtelen sok megoldás van"
   ]
  },
  {
   "cell_type": "markdown",
   "metadata": {},
   "source": [
    "#### _Egynetrendszer konzisztenciája:_"
   ]
  },
  {
   "cell_type": "markdown",
   "metadata": {},
   "source": [
    "_Ha az $Ax=b$ egyenletrendszernek legalább egy megoldása létezik konzisztensnek nevezzük. Ha nem létezik egyetlen megoldása sem akkor az egyenletrendszer inkonzisztens_"
   ]
  },
  {
   "cell_type": "markdown",
   "metadata": {},
   "source": [
    "## Lineáris egyenletrendszerek megoldása Pythonban, NumPy csomag segítségével"
   ]
  },
  {
   "cell_type": "markdown",
   "metadata": {},
   "source": [
    "Egy egyenletrendszert megoldani pythonban nem nehéz. A `NumPy` tartalmazza a `solve` metódust mellyel könnyedén megoldható egy-egy lineáris egyenletrendszer. A `solve` a `NumPy` linalg csomagjában található, paramáterként várja az $A$ együtthatómátrixot és a $b$ megoldásvektort. Nézzük is meg:\n",
    "\n",
    "Vegyünk először egy egyszerű egyenletrendszert, mint ez:\n",
    "$$\n",
    "    3x_1+x_1=9\\\\\n",
    "    x_0+2x_1=8\n",
    "$$\n",
    "\n",
    "ezután importáljuk a numpy csomagot"
   ]
  },
  {
   "cell_type": "code",
   "execution_count": 75,
   "metadata": {},
   "outputs": [],
   "source": [
    "import numpy as np\n",
    "import time #a futási idő méréséhez kell"
   ]
  },
  {
   "cell_type": "markdown",
   "metadata": {},
   "source": [
    "Miután ezzel megvagyunk hozzuk létre az együttható métrixunkat és a megoldás vektorunkat:"
   ]
  },
  {
   "cell_type": "code",
   "execution_count": 76,
   "metadata": {},
   "outputs": [],
   "source": [
    "a=np.array([[2,9,8,7], [3,-2,6,4],[5,8,4,7],[6,9,10,2]])\n",
    "b=np.array([7,4,2,6])"
   ]
  },
  {
   "cell_type": "markdown",
   "metadata": {},
   "source": [
    "Majd használjuk a `solve` metódust"
   ]
  },
  {
   "cell_type": "code",
   "execution_count": 88,
   "metadata": {},
   "outputs": [
    {
     "name": "stdout",
     "output_type": "stream",
     "text": [
      "[-0.51762115  0.03597651  0.85279001  0.12701909]\n",
      "0.0000000000 seconds\n"
     ]
    }
   ],
   "source": [
    "start = time.time()\n",
    "import numpy as np\n",
    "solve_x=np.linalg.solve(a,b)\n",
    "print(x)\n",
    "print(\"%.10f seconds\"%(time.time()-start))\n",
    "time_solve=time.time()-start"
   ]
  },
  {
   "cell_type": "markdown",
   "metadata": {},
   "source": [
    "A solve az Intel Math Kernel Library-ben megtalálható LAPACK gesv rutint használja."
   ]
  },
  {
   "cell_type": "markdown",
   "metadata": {},
   "source": [
    "A futás időt is kiírattam itt, hogy később össze lehessen vetni a beépített és az általam implementált algoritmust.\n",
    "Az `allclose` és`dot` metódusok segítségével pedig le is ellenőrízhetjük az eredményt"
   ]
  },
  {
   "cell_type": "code",
   "execution_count": null,
   "metadata": {},
   "outputs": [],
   "source": [
    "np.allclose(np.dot(a, x), b)"
   ]
  },
  {
   "cell_type": "markdown",
   "metadata": {},
   "source": [
    "Ilyen egyszerű az egész, de ha nem szeretnénk az előre megírt metódust alkalmazni akkor definiálhatunk saját magunk is nekünk tetsző megoldó metódust is. Például implementálhatjuk a Gauss módszert is. Ám mielőtt ezt megnéznénk vessünk egy pillantást a ciklusokra pythonban csak, hogy érthető legyen a kód."
   ]
  },
  {
   "cell_type": "markdown",
   "metadata": {},
   "source": [
    "#### Rang "
   ]
  },
  {
   "cell_type": "markdown",
   "metadata": {},
   "source": [
    "Egy lineáris egyenletrendszer csak akkor megoldható ha az A matrixunk rangja megyegyezik a [A,b] mátrix rangjával ilyenkor az egyenletrendszerünknek pontosan egy megoldása van. Ezt pythonban a következő képpen tudjuk ellenőrizni: "
   ]
  },
  {
   "cell_type": "code",
   "execution_count": null,
   "metadata": {},
   "outputs": [],
   "source": [
    "print(\"A mátrix rangja:\")\n",
    "print(np.linalg.matrix_rank(a))\n",
    "c=np.column_stack((a,b.transpose()))\n",
    "print(\"[A,b] mátrix rangja:\")\n",
    "print(np.linalg.matrix_rank(c))"
   ]
  },
  {
   "cell_type": "markdown",
   "metadata": {},
   "source": [
    "Amint látjuk a két rang megegyezik ezáltal megoldható az itt látható egyenlet rendszer."
   ]
  },
  {
   "cell_type": "markdown",
   "metadata": {},
   "source": [
    "#### Ciklusok pythonban:"
   ]
  },
  {
   "cell_type": "markdown",
   "metadata": {},
   "source": [
    "Pythonban is megtalálható a `for` és a `while` ciklus. A  `for` végig iterál egy iterálható objektumon ami pythonban lehet egy tömb, string vagy az általunk kreált iterálható struktúra. "
   ]
  },
  {
   "cell_type": "code",
   "execution_count": null,
   "metadata": {},
   "outputs": [],
   "source": [
    "s=\"string\"\n",
    "tomb=[1,3,5]\n",
    "collection=[\"string\", 8, 'a']\n",
    "\n",
    "for i in s:\n",
    "    print(i)\n",
    "    \n",
    "print(\"\\n\") \n",
    "\n",
    "for i in tomb:\n",
    "    print(i)\n",
    "    \n",
    "print(\"\\n\")\n",
    "\n",
    "for i in collection:\n",
    "    print(i)\n"
   ]
  },
  {
   "cell_type": "markdown",
   "metadata": {},
   "source": [
    "Ha klasszikus értelemben szeretnénk használni (tehát egy ciklus változót léptetni egy kezdő értéktől egy végértékig) használnunk kell a `range` metódust mely generál egy tömböt a megadott paraméterek alapján. Három paramétere van, az első a kezdő érték, a második a végérték és a harmadik a lépésköz. A `range` esetében figyelni kell, mert a végéertékig generálja a számokat ezért a végérték nem szerepel az általa vissza adott tömbben."
   ]
  },
  {
   "cell_type": "code",
   "execution_count": null,
   "metadata": {},
   "outputs": [],
   "source": [
    "x=range(1,4)\n",
    "\n",
    "for i in x: \n",
    "    print(i)\n",
    "\n",
    "print(\"\\n\")\n",
    "\n",
    "for i in range(1,50,2):\n",
    "    print(i)\n"
   ]
  },
  {
   "cell_type": "markdown",
   "metadata": {},
   "source": [
    "A `while` működése nem tér el a többi általános célú programozási nyelvben megszokottól. Amíg a megadott feltételünk igaz addig maradunk a ciklusban.  "
   ]
  },
  {
   "cell_type": "code",
   "execution_count": null,
   "metadata": {},
   "outputs": [],
   "source": [
    "x=0\n",
    "while x<10:\n",
    "    x=x+1\n",
    "    print(x)"
   ]
  },
  {
   "cell_type": "markdown",
   "metadata": {},
   "source": [
    " Nézzük még meg az `if` elágazást is mely megvizsgál egy logikai kifejezést és annak értéke szerint ágaztatja el a programot."
   ]
  },
  {
   "cell_type": "code",
   "execution_count": 6,
   "metadata": {},
   "outputs": [
    {
     "name": "stdout",
     "output_type": "stream",
     "text": [
      "igaz\n",
      "hamis\n",
      "two plus two is four\n"
     ]
    }
   ],
   "source": [
    "if True:\n",
    "    print(\"igaz\")\n",
    "    \n",
    "if False:\n",
    "    print(\"igaz\")\n",
    "else:\n",
    "    print(\"hamis\")\n",
    "    \n",
    "if(2+2==4):\n",
    "    print(\"two plus two is four\")"
   ]
  },
  {
   "cell_type": "markdown",
   "metadata": {},
   "source": [
    "És akkor lássuk a Gauss módszer implementációját:"
   ]
  },
  {
   "cell_type": "markdown",
   "metadata": {},
   "source": [
    "#### Gauss módszer pythonban:"
   ]
  },
  {
   "cell_type": "code",
   "execution_count": null,
   "metadata": {},
   "outputs": [],
   "source": [
    "# imports\n",
    "import numpy as np\n",
    "import time\n",
    "\n",
    "\n",
    "# definition of Gauss elimintion function\n",
    "def gauss(a, b, dimension):\n",
    "    \n",
    "    #variables\n",
    "    l=np.zeros([dimension,dimension])\n",
    "    x=np.zeros([dimension])\n",
    "    \n",
    "#Gauss elimination phase\n",
    "#Making the upper triangle matrix\n",
    "\n",
    "    for k in range(0, dimension-1):\n",
    "        for i in range(k+1, dimension):\n",
    "            l[i,k] = a[i,k] / a[k,k]\n",
    "            b[i] = b[i] - (l[i,k] * b[k])\n",
    "            for j in range(k,dimension):\n",
    "                a[i,j] = a[i,j] - (l[i,k] * a[k,j])\n",
    "    \n",
    "    print(\"Az első fázis után így néz ki az A matrixunk:\")\n",
    "    print(a)      \n",
    "#Gauss replacement phase \n",
    "#Calculate the x values\n",
    "\n",
    "    x[dimension-1]= b[dimension-1]/a[dimension-1,dimension-1]\n",
    "    \n",
    "   ## for i in range(dimension):\n",
    "     #   x[i]=b[i]/a[i,i]\n",
    "      #  print (x[i])\n",
    "        \n",
    "    for i in range(dimension-1, -1, -1):\n",
    "        s=0\n",
    "        for j in range(i+1,dimension):\n",
    "            s = s + a[i,j] * x[j]\n",
    "            x[i] = (b[i] - s)/a[i,i]\n",
    "             \n",
    "            \n",
    "    return(x)\n",
    "\n",
    "\n",
    "#def main\n",
    "def main():\n",
    "    start = time.time()\n",
    "    # initialization\n",
    "    a=np.array([[2,9,8,7], [3,-2,6,4],[5,8,4,7],[6,9,10,2]])\n",
    "    b=np.array([7,4,2,6])\n",
    "    dimension=4\n",
    "    x=gauss(a,b,dimension)\n",
    "    print(x)\n",
    "    print(\"%.10f seconds\"%(time.time()-start))\n",
    "    \n",
    "main()\n",
    "            "
   ]
  },
  {
   "cell_type": "markdown",
   "metadata": {},
   "source": [
    "Láthatjuk futás időben elég közel van a numpyban lévő megoldáshoz. De nem kapunk olyan pontos eredményt."
   ]
  },
  {
   "cell_type": "markdown",
   "metadata": {},
   "source": [
    "#### Főelem kiválasztás"
   ]
  },
  {
   "cell_type": "markdown",
   "metadata": {},
   "source": [
    "A fenti algoritmus csak olyan mátrixokat képes megoldani amikben egyik együttható sem nulla. Hogy képes legyen rá ki kell egészíteni főelem kiválasztással. A főelem kiválasztás azt jelenti, hogy a sorokat úgy cseréljük fel, hogy az aktuális pivot elemünk ne legyen nulla. A főelemkiválasztás lehet részleges vagy teljes. Részleges főelem kiválasztásnál a $k$-adik lépésben megkeressük a $k$-adik oszlop elemei közül a maximális abszolút értékű $a_{ik}$ együtthatót és ez az $j$-edik sorban van akkor megcseréljük a $j$-edik és a $k$-adik sort. Ezzel fogunk majd találkozni a gauss-Jordan módszer implementációjánál. A teljes főelem kiválasztás során pedig a $k$-adik lépésben megkeressük a mátrixban szereplő értékek közül a maximális abszolút értékűt és ha ez a $a_{ij}$ akkor a $k$-adik sort felcseréljük az $i$-edikkel és a $k$-adik oszlopot is felcseréljük a $j$-edikkel.  "
   ]
  },
  {
   "cell_type": "markdown",
   "metadata": {},
   "source": [
    "#### Gauss-Jordan módszer pythonban"
   ]
  },
  {
   "cell_type": "code",
   "execution_count": 25,
   "metadata": {},
   "outputs": [
    {
     "ename": "SyntaxError",
     "evalue": "invalid syntax (<ipython-input-25-504222ec4774>, line 17)",
     "output_type": "error",
     "traceback": [
      "\u001b[1;36m  File \u001b[1;32m\"<ipython-input-25-504222ec4774>\"\u001b[1;36m, line \u001b[1;32m17\u001b[0m\n\u001b[1;33m    ***\u001b[0m\n\u001b[1;37m     ^\u001b[0m\n\u001b[1;31mSyntaxError\u001b[0m\u001b[1;31m:\u001b[0m invalid syntax\n"
     ]
    }
   ],
   "source": [
    "#TODO: debug Gauss-Jordan method (at the max search)\n",
    "\n",
    "import numpy as np\n",
    "import time\n",
    "\n",
    "def calc_max_row(row):\n",
    "    max_r=0\n",
    "    for i in range(len(row)):\n",
    "        if max_r < abs(row[i]):\n",
    "            max_r=abs(row[i])\n",
    "         \n",
    "    return max_r\n",
    "\n",
    "\n",
    "#definition off Gauss-Jordan method\n",
    "def gaussJordan(a, b):\n",
    "\n",
    "n_rows, n_columns = a.shape\n",
    "pivot_row := 1 \n",
    "pivot_column := 1 \n",
    "max_row_value=0\n",
    "max_row=0\n",
    "\n",
    "while pivot_row <= n_rows and pivot_column <= n_columns\n",
    "    /* Find the k-th pivot: */\n",
    "    t=calc_max_row(a[i])\n",
    "    if t>max_row_value:\n",
    "        max_row_value=t\n",
    "        max_row=i\n",
    "        k := k+1\n",
    "    else\n",
    "         swap rows(h, i_max)\n",
    "         /* Do for all rows below pivot: */\n",
    "         for i = h + 1 ... m:\n",
    "                f := A[i, k] / A[h, k]\n",
    "                /* Fill with zeros the lower part of pivot column: */\n",
    "                A[i, k] := 0\n",
    "                /* Do for all remaining elements in current row: */\n",
    "                for j = k + 1 ... n:\n",
    "                     A[i, j] := A[i, j] - A[h, j] * f\n",
    "         /* Increase pivot row and column */\n",
    "         h := h + 1\n",
    "         k := k + 1\n",
    "        \n",
    "    \n",
    "\n",
    "        \n",
    "#main method\n",
    "def main():\n",
    "    a=np.array([[2,9,8,7], [3,-2,6,4],[5,8,4,7],[6,9,10,2]])\n",
    "    b=np.array([7,4,2,6])\n",
    "    dimension=4\n",
    "    x=gaussJordan(a,b,dimension,dimension)\n",
    "    print(x)\n",
    "\n",
    "#calling main   \n",
    "main()"
   ]
  },
  {
   "cell_type": "code",
   "execution_count": 24,
   "metadata": {},
   "outputs": [
    {
     "data": {
      "text/plain": [
       "(4, 4)"
      ]
     },
     "execution_count": 24,
     "metadata": {},
     "output_type": "execute_result"
    }
   ],
   "source": [
    "    a=np.array([[2,9,8,7], [3,-2,6,4],[5,8,4,7],[6,9,10,2]])\n",
    "    b=np.array([7,4,2,6])\n",
    "\n"
   ]
  },
  {
   "cell_type": "markdown",
   "metadata": {},
   "source": [
    "Most lássunk egy összesítő táblázatot a 3 módszerről: "
   ]
  },
  {
   "cell_type": "markdown",
   "metadata": {},
   "source": [
    "<table width=\"75%\">\n",
    "    <thead>\n",
    "        <th></th>\n",
    "        <th>Beépített solve()</th>\n",
    "        <th>Gauss</th>\n",
    "        <th>Gauss-Jordan</th>\n",
    "    </thead>\n",
    "    <tbody>\n",
    "        <tr>\n",
    "            <td>Futási idő</td>\n",
    "            <td></td>\n",
    "            <td></td>\n",
    "            <td></td>\n",
    "        </tr>\n",
    "        <tr>\n",
    "            <td>Eredmény</td>\n",
    "            <td></td>\n",
    "            <td></td>\n",
    "            <td></td>\n",
    "        </tr>\n",
    "    </tbody>   \n",
    "</table>"
   ]
  }
 ],
 "metadata": {
  "kernelspec": {
   "display_name": "Python 3",
   "language": "python",
   "name": "python3"
  },
  "language_info": {
   "codemirror_mode": {
    "name": "ipython",
    "version": 3
   },
   "file_extension": ".py",
   "mimetype": "text/x-python",
   "name": "python",
   "nbconvert_exporter": "python",
   "pygments_lexer": "ipython3",
   "version": "3.7.4"
  }
 },
 "nbformat": 4,
 "nbformat_minor": 4
}
