{
 "cells": [
  {
   "cell_type": "markdown",
   "metadata": {},
   "source": [
    "# Lineáris egyenletrendszerek"
   ]
  },
  {
   "cell_type": "markdown",
   "metadata": {},
   "source": [
    "## Általánosan a lineáris egyenletredszerekről"
   ]
  },
  {
   "cell_type": "markdown",
   "metadata": {},
   "source": [
    "A lineáris egyenletrendszer egy többismeretlenes egyenletrendszer melyben az ismeretenek az első hatványon vannak."
   ]
  },
  {
   "cell_type": "markdown",
   "metadata": {},
   "source": [
    "Egy $n$ egyenlet és $m$ változó esetén az egyenletrendszer általános alakja a következő:           "
   ]
  },
  {
   "cell_type": "markdown",
   "metadata": {},
   "source": [
    "$$\n",
    "x_{1,1} + x_{1,2} + \\dots + x_{1,m} = b_{1}\\\\\n",
    "x_{2,1} + x_{2,2} + \\dots + x_{2,m} = b_{2}\\\\\n",
    "\\vdots\\\\\n",
    "x_{i,1} + x_{i,2} + \\dots + x_{i,m} = b_{i}\\\\\n",
    "\\vdots\\\\\n",
    "x_{n,1} + x_{n,2} + \\dots + x_{n,m} = b_{n}\\\\\n",
    "$$"
   ]
  },
  {
   "cell_type": "markdown",
   "metadata": {},
   "source": [
    "Aztmondjuk hogy az egyenlet rendszer alulhatárolt, hogyha $n<m$ és tulhatárolt, hogyha $n>m$.\n",
    "Négyzetesnek nevezzük ha $m=n$\n",
    "Az egyenletrendszer geometriai tartalmát az alábbi módon írhatjuk le:"
   ]
  },
  {
   "cell_type": "markdown",
   "metadata": {},
   "source": [
    "Az $R^n$ euklideszi tér $d\\in R^n$ normálvektorú és $x_0\\in R^n$ ponton ́atmenő hipersíkját az\n",
    "$$(x - x_0)^Td= 0$$ egyenletet kielegıtő $x\\in R^n$ pontok határozzák meg."
   ]
  },
  {
   "cell_type": "markdown",
   "metadata": {},
   "source": [
    "Az $Ax=b$ egyenletrendszert felírhatjuk ilyen formában is:  "
   ]
  },
  {
   "cell_type": "markdown",
   "metadata": {},
   "source": [
    "$$ \n",
    "a_{1}^Tx= b_1\\\\\n",
    "a_{2}^Tx= b_2\\\\\n",
    "\\vdots\\\\\n",
    "a_{n}^Tx= b_n\\\\\n",
    "$$"
   ]
  },
  {
   "cell_type": "markdown",
   "metadata": {},
   "source": [
    "ahol $a_{i}^T={a_{i1}, \\dots a_{im}}$"
   ]
  },
  {
   "cell_type": "markdown",
   "metadata": {},
   "source": [
    "Innen láthatjuk, hogy az egynletrendszer megoldása az $m$ hipőersík közös része, ennek megfelelően 3 megoldás lehetséges:\n",
    "1. lehetőség: nincs megolás\n",
    "2. lehetőség: pontosan egy megoldása van\n",
    "3. lehetőség: végtelen sok megoldás van"
   ]
  },
  {
   "cell_type": "markdown",
   "metadata": {},
   "source": [
    "#### _Egynetrendszer konzisztenciája:_"
   ]
  },
  {
   "cell_type": "markdown",
   "metadata": {},
   "source": [
    "_Ha az $Ax=b$ egyenletrendszernek legalább egy megoldása létezik konzisztensnek nevezzük. Ha nem létezik egyetlen megoldása sem akkor az egyenletrendszer inkonzisztens_"
   ]
  },
  {
   "cell_type": "markdown",
   "metadata": {},
   "source": []
  },
  {
   "cell_type": "markdown",
   "metadata": {},
   "source": [
    "## Lineáris egyenletrendszerek megoldása Pythonban, NumPy csomag segítségével"
   ]
  },
  {
   "cell_type": "markdown",
   "metadata": {},
   "source": [
    "Egy egyenletrendszert megoldani pythonban nem nehéz. A `NumPy` tartalmazza a `solve` metódust mellyel könnyedén megoldható egy-egy lineáris egyenletrendszer. A `solve` a `NumPy` linalg csomagjában található, paramáterként várja az $A$ együtthatómátrixot és a $b$ megoldásvektort. Nézzük is meg:\n",
    "\n",
    "Vegyünk először egy egyszerű egyenletrendszert, mint ez:\n",
    "$$\n",
    "    3x_1+x_1=9\\\\\n",
    "    x_0+2x_1=8\n",
    "$$\n",
    "\n",
    "ezután importáljuk a numpy csomagot"
   ]
  },
  {
   "cell_type": "code",
   "execution_count": 196,
   "metadata": {},
   "outputs": [],
   "source": [
    "import numpy as np\n",
    "import time #a futási idő méréséhez kell"
   ]
  },
  {
   "cell_type": "markdown",
   "metadata": {},
   "source": [
    "Miután ezzel megvagyunk hozzuk létre az együttható métrixunkat és a megoldás vektorunkat:"
   ]
  },
  {
   "cell_type": "code",
   "execution_count": 20,
   "metadata": {},
   "outputs": [],
   "source": [
    "a=np.array([[2,9,8,7], [3,-2,6,4],[5,8,4,7],[6,9,10,2]])\n",
    "b=np.array([7,4,2,6])"
   ]
  },
  {
   "cell_type": "markdown",
   "metadata": {},
   "source": [
    "Majd használjuk a `solve` metódust"
   ]
  },
  {
   "cell_type": "code",
   "execution_count": 21,
   "metadata": {},
   "outputs": [
    {
     "name": "stdout",
     "output_type": "stream",
     "text": [
      "[-0.51762115  0.03597651  0.85279001  0.12701909]\n",
      "0.0219805241 seconds\n"
     ]
    }
   ],
   "source": [
    "start = time.time()\n",
    "import numpy as np\n",
    "x=np.linalg.solve(a,b)\n",
    "print(x)\n",
    "print(\"%.10f seconds\"%(time.time()-start))"
   ]
  },
  {
   "cell_type": "markdown",
   "metadata": {},
   "source": [
    "A futás időt is kiírattam itt, hogy később össze lehessen vetni a beépített és az általam implementált algoritmust.\n",
    "Az `allclose` és`dot` metódusok segítségével pedig le is ellenőrízhetjük az eredményt"
   ]
  },
  {
   "cell_type": "code",
   "execution_count": 167,
   "metadata": {},
   "outputs": [
    {
     "data": {
      "text/plain": [
       "True"
      ]
     },
     "execution_count": 167,
     "metadata": {},
     "output_type": "execute_result"
    }
   ],
   "source": [
    "np.allclose(np.dot(a, x), b)"
   ]
  },
  {
   "cell_type": "markdown",
   "metadata": {},
   "source": [
    "Ilyen egyszerű az egész, de ha nem szeretnénk az előre megírt metódust alkalmazni akkor definiálhatunk saját magunk is nekünk tetsző megoldó metódust is. Például implementálhatjuk a Gauss módszert is. Ám mielőtt ezt megnéznénk vessünk egy pillantást a ciklusokra pythonban csak, hogy érthető legyen a kód."
   ]
  },
  {
   "cell_type": "markdown",
   "metadata": {},
   "source": [
    "#### Ciklusok pythonban:"
   ]
  },
  {
   "cell_type": "markdown",
   "metadata": {},
   "source": [
    "Pythonban is megtalálható a `for` és a `while` ciklus. A  `for` végig iterál egy iterálható objektumon ami pythonban lehet egy tömb, string vagy az általunk kreált iterálható struktúra. "
   ]
  },
  {
   "cell_type": "code",
   "execution_count": 2,
   "metadata": {},
   "outputs": [
    {
     "name": "stdout",
     "output_type": "stream",
     "text": [
      "s\n",
      "t\n",
      "r\n",
      "i\n",
      "n\n",
      "g\n",
      "\n",
      "\n",
      "1\n",
      "3\n",
      "5\n",
      "\n",
      "\n",
      "string\n",
      "8\n",
      "a\n"
     ]
    }
   ],
   "source": [
    "s=\"string\"\n",
    "tomb=[1,3,5]\n",
    "collection=[\"string\", 8, 'a']\n",
    "\n",
    "for i in s:\n",
    "    print(i)\n",
    "    \n",
    "print(\"\\n\") \n",
    "\n",
    "for i in tomb:\n",
    "    print(i)\n",
    "    \n",
    "print(\"\\n\")\n",
    "\n",
    "for i in collection:\n",
    "    print(i)\n"
   ]
  },
  {
   "cell_type": "markdown",
   "metadata": {},
   "source": [
    "Ha klasszikus értelemben szeretnénk használni (tehát egy ciklus változót léptetni egy kezdő értéktől egy végértékig) használnunk kell a `range` metódust mely generál egy tömböt a megadott paraméterek alapján. Három paramétere van, az első a kezdő érték, a második a végérték és a harmadik a lépésköz. A `range` esetében figyelni kell, mert a végéertékig generálja a számokat ezért a végérték nem szerepel az általa vissza adott tömbben."
   ]
  },
  {
   "cell_type": "code",
   "execution_count": 13,
   "metadata": {},
   "outputs": [
    {
     "name": "stdout",
     "output_type": "stream",
     "text": [
      "1\n",
      "2\n",
      "3\n",
      "\n",
      "\n",
      "1\n",
      "3\n",
      "5\n",
      "7\n",
      "9\n",
      "11\n",
      "13\n",
      "15\n",
      "17\n",
      "19\n",
      "21\n",
      "23\n",
      "25\n",
      "27\n",
      "29\n",
      "31\n",
      "33\n",
      "35\n",
      "37\n",
      "39\n",
      "41\n",
      "43\n",
      "45\n",
      "47\n",
      "49\n"
     ]
    }
   ],
   "source": [
    "x=range(1,4)\n",
    "\n",
    "for i in x: \n",
    "    print(i)\n",
    "\n",
    "print(\"\\n\")\n",
    "\n",
    "for i in range(1,50,2):\n",
    "    print(i)\n"
   ]
  },
  {
   "cell_type": "markdown",
   "metadata": {},
   "source": [
    "A `while` működése nem tér el a többi általános célú programozási nyelvben megszokottól. Amíg a megadott feltételünk igaz addig maradunk a ciklusban.  "
   ]
  },
  {
   "cell_type": "code",
   "execution_count": 16,
   "metadata": {},
   "outputs": [
    {
     "name": "stdout",
     "output_type": "stream",
     "text": [
      "1\n",
      "2\n",
      "3\n",
      "4\n",
      "5\n",
      "6\n",
      "7\n",
      "8\n",
      "9\n",
      "10\n"
     ]
    }
   ],
   "source": [
    "x=0\n",
    "while x<10:\n",
    "    x=x+1\n",
    "    print(x)"
   ]
  },
  {
   "cell_type": "markdown",
   "metadata": {},
   "source": [
    "És akkor lássuk a Gauss módszer implementációját:"
   ]
  },
  {
   "cell_type": "markdown",
   "metadata": {},
   "source": [
    "#### Gauss módszer pythonban:"
   ]
  },
  {
   "cell_type": "code",
   "execution_count": 35,
   "metadata": {},
   "outputs": [
    {
     "name": "stdout",
     "output_type": "stream",
     "text": [
      "[-0.3825  0.01    0.85    0.125 ]\n",
      "0.0000000000 seconds\n"
     ]
    }
   ],
   "source": [
    "# imports\n",
    "import numpy as np\n",
    "import time\n",
    "\n",
    "\n",
    "# definition of Gauss elimintion function\n",
    "def gauss(a, b, dimension):\n",
    "    \n",
    "    #variables\n",
    "    l=np.zeros([dimension,dimension])\n",
    "    x=np.zeros([dimension])\n",
    "    \n",
    "#Gauss elimination phase\n",
    "#Making the upper triangle matrix\n",
    "\n",
    "    for k in range(0, dimension-1):\n",
    "        for i in range(k+1, dimension):\n",
    "            l[i,k] = a[i,k] / a[k,k]\n",
    "            b[i] = b[i] - (l[i,k] * b[k])\n",
    "            for j in range(k,dimension):\n",
    "                a[i,j] = a[i,j] - (l[i,k] * a[k,j])\n",
    "         \n",
    "        \n",
    "#Gauss replacement phase \n",
    "#Calculate the x values\n",
    "\n",
    "    x[dimension-1]= b[dimension-1]/a[dimension-1,dimension-1]\n",
    "    \n",
    "   ## for i in range(dimension):\n",
    "     #   x[i]=b[i]/a[i,i]\n",
    "      #  print (x[i])\n",
    "        \n",
    "    for i in range(dimension-1, -1, -1):\n",
    "        s=0\n",
    "        for j in range(i+1,dimension):\n",
    "            s = s + a[i,j] * x[j]\n",
    "            x[i] = (b[i] - s)/a[i,i]\n",
    "            \n",
    "    return(x)\n",
    "\n",
    "\n",
    "#def main\n",
    "def main():\n",
    "    start = time.time()\n",
    "    # initialization\n",
    "    a=np.array([[2,9,8,7], [3,-2,6,4],[5,8,4,7],[6,9,10,2]])\n",
    "    b=np.array([7,4,2,6])\n",
    "    dimension=4\n",
    "    x=gauss(a,b,dimension)\n",
    "    print(x)\n",
    "    print(\"%.10f seconds\"%(time.time()-start))\n",
    "    \n",
    "main()\n",
    "            "
   ]
  },
  {
   "cell_type": "markdown",
   "metadata": {},
   "source": [
    "Láthatjuk futás időben elég közel van a numpyban lévő megoldáshoz. De nem kapunk olyan pontos eredményt."
   ]
  },
  {
   "cell_type": "markdown",
   "metadata": {},
   "source": [
    "#### Gauss-Jordan módszer pythonban"
   ]
  },
  {
   "cell_type": "code",
   "execution_count": 58,
   "metadata": {},
   "outputs": [
    {
     "ename": "IndexError",
     "evalue": "index 4 is out of bounds for axis 1 with size 4",
     "output_type": "error",
     "traceback": [
      "\u001b[1;31m---------------------------------------------------------------------------\u001b[0m",
      "\u001b[1;31mIndexError\u001b[0m                                Traceback (most recent call last)",
      "\u001b[1;32m<ipython-input-58-c60acc1956fe>\u001b[0m in \u001b[0;36m<module>\u001b[1;34m\u001b[0m\n\u001b[0;32m     61\u001b[0m \u001b[1;33m\u001b[0m\u001b[0m\n\u001b[0;32m     62\u001b[0m \u001b[1;31m#calling main\u001b[0m\u001b[1;33m\u001b[0m\u001b[1;33m\u001b[0m\u001b[1;33m\u001b[0m\u001b[0m\n\u001b[1;32m---> 63\u001b[1;33m \u001b[0mmain\u001b[0m\u001b[1;33m(\u001b[0m\u001b[1;33m)\u001b[0m\u001b[1;33m\u001b[0m\u001b[1;33m\u001b[0m\u001b[0m\n\u001b[0m",
      "\u001b[1;32m<ipython-input-58-c60acc1956fe>\u001b[0m in \u001b[0;36mmain\u001b[1;34m()\u001b[0m\n\u001b[0;32m     57\u001b[0m     \u001b[0mb\u001b[0m\u001b[1;33m=\u001b[0m\u001b[0mnp\u001b[0m\u001b[1;33m.\u001b[0m\u001b[0marray\u001b[0m\u001b[1;33m(\u001b[0m\u001b[1;33m[\u001b[0m\u001b[1;36m7\u001b[0m\u001b[1;33m,\u001b[0m\u001b[1;36m4\u001b[0m\u001b[1;33m,\u001b[0m\u001b[1;36m2\u001b[0m\u001b[1;33m,\u001b[0m\u001b[1;36m6\u001b[0m\u001b[1;33m]\u001b[0m\u001b[1;33m)\u001b[0m\u001b[1;33m\u001b[0m\u001b[1;33m\u001b[0m\u001b[0m\n\u001b[0;32m     58\u001b[0m     \u001b[0mdimension\u001b[0m\u001b[1;33m=\u001b[0m\u001b[1;36m4\u001b[0m\u001b[1;33m\u001b[0m\u001b[1;33m\u001b[0m\u001b[0m\n\u001b[1;32m---> 59\u001b[1;33m     \u001b[0mx\u001b[0m\u001b[1;33m=\u001b[0m\u001b[0mgaussJordan\u001b[0m\u001b[1;33m(\u001b[0m\u001b[0ma\u001b[0m\u001b[1;33m,\u001b[0m\u001b[0mb\u001b[0m\u001b[1;33m,\u001b[0m\u001b[0mdimension\u001b[0m\u001b[1;33m,\u001b[0m\u001b[0mdimension\u001b[0m\u001b[1;33m)\u001b[0m\u001b[1;33m\u001b[0m\u001b[1;33m\u001b[0m\u001b[0m\n\u001b[0m\u001b[0;32m     60\u001b[0m     \u001b[0mprint\u001b[0m\u001b[1;33m(\u001b[0m\u001b[0mx\u001b[0m\u001b[1;33m)\u001b[0m\u001b[1;33m\u001b[0m\u001b[1;33m\u001b[0m\u001b[0m\n\u001b[0;32m     61\u001b[0m \u001b[1;33m\u001b[0m\u001b[0m\n",
      "\u001b[1;32m<ipython-input-58-c60acc1956fe>\u001b[0m in \u001b[0;36mgaussJordan\u001b[1;34m(a, b, rows_number, columns_number)\u001b[0m\n\u001b[0;32m     37\u001b[0m             \u001b[0ml\u001b[0m\u001b[1;33m[\u001b[0m\u001b[0mi\u001b[0m\u001b[1;33m,\u001b[0m\u001b[0mk\u001b[0m\u001b[1;33m]\u001b[0m\u001b[1;33m=\u001b[0m\u001b[0ma\u001b[0m\u001b[1;33m[\u001b[0m\u001b[0mi\u001b[0m\u001b[1;33m,\u001b[0m\u001b[0mk\u001b[0m\u001b[1;33m]\u001b[0m\u001b[1;33m/\u001b[0m\u001b[0ma\u001b[0m\u001b[1;33m[\u001b[0m\u001b[0mk\u001b[0m\u001b[1;33m,\u001b[0m\u001b[0mk\u001b[0m\u001b[1;33m]\u001b[0m\u001b[1;33m\u001b[0m\u001b[1;33m\u001b[0m\u001b[0m\n\u001b[0;32m     38\u001b[0m             \u001b[1;32mfor\u001b[0m \u001b[0mj\u001b[0m \u001b[1;32min\u001b[0m \u001b[0mrange\u001b[0m\u001b[1;33m(\u001b[0m\u001b[0mk\u001b[0m\u001b[1;33m+\u001b[0m\u001b[1;36m1\u001b[0m\u001b[1;33m,\u001b[0m\u001b[0mrows_number\u001b[0m\u001b[1;33m+\u001b[0m\u001b[0mcolumns_number\u001b[0m\u001b[1;33m)\u001b[0m\u001b[1;33m:\u001b[0m\u001b[1;33m\u001b[0m\u001b[1;33m\u001b[0m\u001b[0m\n\u001b[1;32m---> 39\u001b[1;33m                 \u001b[0ma\u001b[0m\u001b[1;33m[\u001b[0m\u001b[0mi\u001b[0m\u001b[1;33m,\u001b[0m\u001b[0mj\u001b[0m\u001b[1;33m]\u001b[0m\u001b[1;33m=\u001b[0m\u001b[0ma\u001b[0m\u001b[1;33m[\u001b[0m\u001b[0mi\u001b[0m\u001b[1;33m,\u001b[0m\u001b[0mj\u001b[0m\u001b[1;33m]\u001b[0m\u001b[1;33m-\u001b[0m\u001b[1;33m(\u001b[0m\u001b[0ml\u001b[0m\u001b[1;33m[\u001b[0m\u001b[0mi\u001b[0m\u001b[1;33m,\u001b[0m\u001b[0mk\u001b[0m\u001b[1;33m]\u001b[0m\u001b[1;33m*\u001b[0m\u001b[0ma\u001b[0m\u001b[1;33m[\u001b[0m\u001b[0mk\u001b[0m\u001b[1;33m,\u001b[0m\u001b[0mj\u001b[0m\u001b[1;33m]\u001b[0m\u001b[1;33m)\u001b[0m\u001b[1;33m\u001b[0m\u001b[1;33m\u001b[0m\u001b[0m\n\u001b[0m\u001b[0;32m     40\u001b[0m \u001b[1;33m\u001b[0m\u001b[0m\n\u001b[0;32m     41\u001b[0m     \u001b[1;31m#second phase\u001b[0m\u001b[1;33m\u001b[0m\u001b[1;33m\u001b[0m\u001b[1;33m\u001b[0m\u001b[0m\n",
      "\u001b[1;31mIndexError\u001b[0m: index 4 is out of bounds for axis 1 with size 4"
     ]
    }
   ],
   "source": [
    "#TODO: debug Gauss-Jordan method (at the max search)\n",
    "\n",
    "import numpy as np\n",
    "import time\n",
    "\n",
    "def max(row):\n",
    "    \n",
    "    max=0\n",
    "    for i in range(len(row)):\n",
    "        if max < row[i]:\n",
    "            max=row[i]\n",
    "         \n",
    "    return max\n",
    "\n",
    "\n",
    "#definition off Gauss-Jordan method\n",
    "def gaussJordan(a, b, rows_number, columns_number):\n",
    "    \n",
    "    #variables\n",
    "    l=np.zeros([rows_number,columns_number])\n",
    "    x=np.zeros([rows_number])\n",
    "    t=0\n",
    "    max_row=0\n",
    "    max_row_value=0\n",
    "    row=0;\n",
    "    \n",
    "    #first phase\n",
    "    for k in range(0, rows_number-1):\n",
    "        for i in range(k,rows_number):\n",
    "            t=max(a[i])\n",
    "            if t>max_row_value:\n",
    "                max_row_value=t\n",
    "                max_row=i\n",
    "        if k!=max_row:\n",
    "            a[[k,max_row]]=a[[max_row,k]]\n",
    "        for i in range(k+1,rows_number):\n",
    "            l[i,k]=a[i,k]/a[k,k]\n",
    "            for j in range(k+1,rows_number+columns_number):\n",
    "                a[i,j]=a[i,j]-(l[i,k]*a[k,j])\n",
    "        \n",
    "    #second phase\n",
    "    for k in range(rows_number,2,-1):\n",
    "        for i in range(0,k-1):\n",
    "            l[i,k]= a[i,k]/a[k,k]\n",
    "            for j in range(rows_number+1,rows_number+columns_number):\n",
    "                a[i,j]=a[i,j]-(l[i,k]*a[k,j])\n",
    "        for j in range(rows_number+1,rows_number+columns_number):\n",
    "            x[k,j-n]=a[k,j]/a[k,k]\n",
    "            \n",
    "    for j in range(rows_number+1,rows_number+columns_number):\n",
    "        x[1,j-1]=a[1,j]/a[1,1]\n",
    "\n",
    "        \n",
    "#main method\n",
    "def main():\n",
    "    a=np.array([[2,9,8,7], [3,-2,6,4],[5,8,4,7],[6,9,10,2]])\n",
    "    b=np.array([7,4,2,6])\n",
    "    dimension=4\n",
    "    x=gaussJordan(a,b,dimension,dimension)\n",
    "    print(x)\n",
    "\n",
    "#calling main   \n",
    "main()"
   ]
  },
  {
   "cell_type": "code",
   "execution_count": null,
   "metadata": {},
   "outputs": [],
   "source": []
  }
 ],
 "metadata": {
  "kernelspec": {
   "display_name": "Python 3",
   "language": "python",
   "name": "python3"
  },
  "language_info": {
   "codemirror_mode": {
    "name": "ipython",
    "version": 3
   },
   "file_extension": ".py",
   "mimetype": "text/x-python",
   "name": "python",
   "nbconvert_exporter": "python",
   "pygments_lexer": "ipython3",
   "version": "3.7.4"
  }
 },
 "nbformat": 4,
 "nbformat_minor": 4
}
