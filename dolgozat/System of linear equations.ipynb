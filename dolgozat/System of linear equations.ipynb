{
 "cells": [
  {
   "cell_type": "markdown",
   "metadata": {},
   "source": [
    "# Lineáris egyenletrendszerek"
   ]
  },
  {
   "cell_type": "markdown",
   "metadata": {},
   "source": [
    "## Általánosan a lineáris egyenletredszerekről"
   ]
  },
  {
   "cell_type": "markdown",
   "metadata": {},
   "source": [
    "A lineáris egyenletrendszer egy többismeretlenes egyenletrendszer melyben az ismeretlenek az első hatványon vannak."
   ]
  },
  {
   "cell_type": "markdown",
   "metadata": {},
   "source": [
    "Egy $n$ egyenlet és $m$ változó esetén az egyenletrendszer általános alakja a következő:           "
   ]
  },
  {
   "cell_type": "markdown",
   "metadata": {},
   "source": [
    "$$\n",
    "x_{1,1} + x_{1,2} + \\dots + x_{1,m} = b_{1}\\\\\n",
    "x_{2,1} + x_{2,2} + \\dots + x_{2,m} = b_{2}\\\\\n",
    "\\vdots\\\\\n",
    "x_{i,1} + x_{i,2} + \\dots + x_{i,m} = b_{i}\\\\\n",
    "\\vdots\\\\\n",
    "x_{n,1} + x_{n,2} + \\dots + x_{n,m} = b_{n}\\\\\n",
    "$$"
   ]
  },
  {
   "cell_type": "markdown",
   "metadata": {},
   "source": [
    "Aztmondjuk hogy az egyenlet rendszer alulhatárolt, hogyha $n<m$ és túlhatárolt, hogyha $n>m$.\n",
    "Négyzetesnek nevezzük ha $m=n$.\n",
    "Az egyenletrendszer geometriai tartalmát az alábbi módon írhatjuk le:"
   ]
  },
  {
   "cell_type": "markdown",
   "metadata": {},
   "source": [
    "Az $R^n$ euklideszi tér $d\\in R^n$ normálvektorú és $x_0 \\in R^n$ ponton átmenő hipersíkját az\n",
    "\n",
    "$$ (x - x_0)^Td=0$$ \n",
    "\n",
    "egyenletet kielégítő $x \\in R^n$ pontok határozzák meg."
   ]
  },
  {
   "cell_type": "markdown",
   "metadata": {},
   "source": [
    "Az $Ax=b$ egyenletrendszert felírhatjuk ilyen formában is:  "
   ]
  },
  {
   "cell_type": "markdown",
   "metadata": {},
   "source": [
    "$$ \n",
    "a_{1}^Tx= b_1\\\\\n",
    "a_{2}^Tx= b_2\\\\\n",
    "\\vdots\\\\\n",
    "a_{n}^Tx= b_n\\\\\n",
    "$$"
   ]
  },
  {
   "cell_type": "markdown",
   "metadata": {},
   "source": [
    "ahol $a_{i}^T={a_{i1}, \\dots a_{im}}$."
   ]
  },
  {
   "cell_type": "markdown",
   "metadata": {},
   "source": [
    "Innen láthatjuk, hogy az egynletrendszer megoldása az $m$ hipőersík közös része, ennek megfelelően 3 megoldás lehetséges:\n",
    "1. lehetőség: nincs megolás\n",
    "2. lehetőség: pontosan egy megoldása van\n",
    "3. lehetőség: végtelen sok megoldás van"
   ]
  },
  {
   "cell_type": "markdown",
   "metadata": {},
   "source": [
    "#### _Egynetrendszer konzisztenciája:_"
   ]
  },
  {
   "cell_type": "markdown",
   "metadata": {},
   "source": [
    "_Ha az $Ax=b$ egyenletrendszernek legalább egy megoldása létezik konzisztensnek nevezzük. Ha nem létezik egyetlen megoldása sem, akkor az egyenletrendszer inkonzisztens._"
   ]
  },
  {
   "cell_type": "markdown",
   "metadata": {},
   "source": [
    "## Lineáris egyenletrendszerek megoldása Pythonban, NumPy csomag segítségével"
   ]
  },
  {
   "cell_type": "markdown",
   "metadata": {},
   "source": [
    "Egy egyenletrendszert megoldani pythonban nem nehéz. A `NumPy` tartalmazza a `solve` metódust mellyel könnyedén megoldható egy-egy lineáris egyenletrendszer. A `solve` a `NumPy` linalg csomagjában található, paramáterként várja az $A$ együtthatómátrixot és a $b$ megoldásvektort. Nézzük is meg:\n",
    "\n",
    "Vegyünk először egy egyszerű egyenletrendszert, mint ez:\n",
    "$$\n",
    "    2x_1 + 9x_2 + 8x_3 + 7x_4= 7\\\\\n",
    "    3x_1 - 2x_2 + 6x_3 + 4x_4= 4\\\\\n",
    "    5x_1 + 8x_2 + 4x_3 + 7x_4= 2\\\\\n",
    "    6x_1 + 9x_2 + 10x_3 + 2x_4= 6\n",
    "$$\n",
    "\n",
    "ezután importáljuk a numpy csomagot"
   ]
  },
  {
   "cell_type": "code",
   "execution_count": 1,
   "metadata": {},
   "outputs": [],
   "source": [
    "import numpy as np\n",
    "import time #a futási idő méréséhez kell"
   ]
  },
  {
   "cell_type": "markdown",
   "metadata": {},
   "source": [
    "Miután ezzel megvagyunk hozzuk létre az együttható métrixunkat és a megoldás vektorunkat:"
   ]
  },
  {
   "cell_type": "code",
   "execution_count": 2,
   "metadata": {},
   "outputs": [],
   "source": [
    "a=np.array([[2,9,8,7], [3,-2,6,4],[5,8,4,7],[6,9,10,2]])\n",
    "b=np.array([7,4,2,6])"
   ]
  },
  {
   "cell_type": "markdown",
   "metadata": {},
   "source": [
    "Majd használjuk a `solve` metódust"
   ]
  },
  {
   "cell_type": "code",
   "execution_count": 3,
   "metadata": {},
   "outputs": [
    {
     "name": "stdout",
     "output_type": "stream",
     "text": [
      "[-0.51762115  0.03597651  0.85279001  0.12701909]\n",
      "0.0010077953 seconds\n"
     ]
    }
   ],
   "source": [
    "start = time.time()\n",
    "import numpy as np\n",
    "x_solve=np.linalg.solve(a,b)\n",
    "print(x_solve)\n",
    "print(\"%.10f seconds\"%(time.time()-start))\n",
    "time_solve=time.time()-start"
   ]
  },
  {
   "cell_type": "markdown",
   "metadata": {},
   "source": [
    "A solve az Intel Math Kernel Library-ben megtalálható LAPACK gesv rutint használja."
   ]
  },
  {
   "cell_type": "markdown",
   "metadata": {},
   "source": [
    "A futás időt is kiírattam itt, hogy később össze lehessen vetni a beépített és az általam implementált algoritmust.\n",
    "Az `allclose` és`dot` metódusok segítségével pedig le is ellenőrízhetjük az eredményt."
   ]
  },
  {
   "cell_type": "code",
   "execution_count": 4,
   "metadata": {},
   "outputs": [
    {
     "data": {
      "text/plain": [
       "True"
      ]
     },
     "execution_count": 4,
     "metadata": {},
     "output_type": "execute_result"
    }
   ],
   "source": [
    "np.allclose(np.dot(a, x_solve), b)"
   ]
  },
  {
   "cell_type": "markdown",
   "metadata": {},
   "source": [
    "Ilyen egyszerű az egész, de ha nem szeretnénk az előre megírt metódust alkalmazni akkor definiálhatunk saját magunk is nekünk tetsző megoldó metódust is. Például implementálhatjuk a Gauss módszert is. Ám mielőtt ezt megnéznénk vessünk egy pillantást a ciklusokra pythonban csak, hogy érthető legyen a kód."
   ]
  },
  {
   "cell_type": "markdown",
   "metadata": {},
   "source": [
    "#### Rang "
   ]
  },
  {
   "cell_type": "markdown",
   "metadata": {},
   "source": [
    "Egy lineáris egyenletrendszer csak akkor megoldható ha az A matrixunk rangja megyegyezik a [A,b] mátrix rangjával ilyenkor az egyenletrendszerünknek pontosan egy megoldása van. Ezt pythonban a következő képpen tudjuk ellenőrizni: "
   ]
  },
  {
   "cell_type": "code",
   "execution_count": 5,
   "metadata": {},
   "outputs": [
    {
     "name": "stdout",
     "output_type": "stream",
     "text": [
      "A mátrix rangja:\n",
      "4\n",
      "[A,b] mátrix rangja:\n",
      "4\n"
     ]
    }
   ],
   "source": [
    "print(\"A mátrix rangja:\")\n",
    "print(np.linalg.matrix_rank(a))\n",
    "c=np.column_stack((a,b.transpose()))\n",
    "print(\"[A,b] mátrix rangja:\")\n",
    "print(np.linalg.matrix_rank(c))"
   ]
  },
  {
   "cell_type": "markdown",
   "metadata": {},
   "source": [
    "Amint látjuk a két rang megegyezik ezáltal megoldható az itt látható egyenlet rendszer."
   ]
  },
  {
   "cell_type": "markdown",
   "metadata": {},
   "source": [
    "#### Ciklusok pythonban:"
   ]
  },
  {
   "cell_type": "markdown",
   "metadata": {},
   "source": [
    "Pythonban is megtalálható a `for` és a `while` ciklus. A  `for` végig iterál egy iterálható objektumon ami pythonban lehet egy tömb, string vagy az általunk kreált iterálható struktúra. "
   ]
  },
  {
   "cell_type": "code",
   "execution_count": 6,
   "metadata": {},
   "outputs": [
    {
     "name": "stdout",
     "output_type": "stream",
     "text": [
      "s\n",
      "t\n",
      "r\n",
      "i\n",
      "n\n",
      "g\n",
      "\n",
      "\n",
      "1\n",
      "3\n",
      "5\n",
      "\n",
      "\n",
      "string\n",
      "8\n",
      "a\n"
     ]
    }
   ],
   "source": [
    "s=\"string\"\n",
    "tomb=[1,3,5]\n",
    "collection=[\"string\", 8, 'a']\n",
    "\n",
    "for i in s:\n",
    "    print(i)\n",
    "    \n",
    "print(\"\\n\") \n",
    "\n",
    "for i in tomb:\n",
    "    print(i)\n",
    "    \n",
    "print(\"\\n\")\n",
    "\n",
    "for i in collection:\n",
    "    print(i)\n"
   ]
  },
  {
   "cell_type": "markdown",
   "metadata": {},
   "source": [
    "Ha klasszikus értelemben szeretnénk használni (tehát egy ciklus változót léptetni egy kezdő értéktől egy végértékig) használnunk kell a `range` metódust mely generál egy tömböt a megadott paraméterek alapján. Három paramétere van, az első a kezdő érték, a második a végérték és a harmadik a lépésköz. A `range` esetében figyelni kell, mert a végéertékig generálja a számokat ezért a végérték nem szerepel az általa vissza adott tömbben."
   ]
  },
  {
   "cell_type": "code",
   "execution_count": 7,
   "metadata": {},
   "outputs": [
    {
     "name": "stdout",
     "output_type": "stream",
     "text": [
      "1\n",
      "2\n",
      "3\n",
      "\n",
      "\n",
      "1\n",
      "3\n",
      "5\n",
      "7\n",
      "9\n",
      "11\n",
      "13\n",
      "15\n",
      "17\n",
      "19\n",
      "21\n",
      "23\n",
      "25\n",
      "27\n",
      "29\n",
      "31\n",
      "33\n",
      "35\n",
      "37\n",
      "39\n",
      "41\n",
      "43\n",
      "45\n",
      "47\n",
      "49\n"
     ]
    }
   ],
   "source": [
    "x=range(1,4)\n",
    "\n",
    "for i in x: \n",
    "    print(i)\n",
    "\n",
    "print(\"\\n\")\n",
    "\n",
    "for i in range(1,50,2):\n",
    "    print(i)\n"
   ]
  },
  {
   "cell_type": "markdown",
   "metadata": {},
   "source": [
    "A `while` működése nem tér el a többi általános célú programozási nyelvben megszokottól. Amíg a megadott feltételünk igaz addig maradunk a ciklusban.  "
   ]
  },
  {
   "cell_type": "code",
   "execution_count": 8,
   "metadata": {},
   "outputs": [
    {
     "name": "stdout",
     "output_type": "stream",
     "text": [
      "1\n",
      "2\n",
      "3\n",
      "4\n",
      "5\n",
      "6\n",
      "7\n",
      "8\n",
      "9\n",
      "10\n"
     ]
    }
   ],
   "source": [
    "x=0\n",
    "while x<10:\n",
    "    x=x+1\n",
    "    print(x)"
   ]
  },
  {
   "cell_type": "markdown",
   "metadata": {},
   "source": [
    " Nézzük még meg az `if` elágazást is mely megvizsgál egy logikai kifejezést és annak értéke szerint ágaztatja el a programot."
   ]
  },
  {
   "cell_type": "code",
   "execution_count": 9,
   "metadata": {},
   "outputs": [
    {
     "name": "stdout",
     "output_type": "stream",
     "text": [
      "igaz\n",
      "hamis\n",
      "two plus two is four\n"
     ]
    }
   ],
   "source": [
    "if True:\n",
    "    print(\"igaz\")\n",
    "    \n",
    "if False:\n",
    "    print(\"igaz\")\n",
    "else:\n",
    "    print(\"hamis\")\n",
    "    \n",
    "if(2+2==4):\n",
    "    print(\"two plus two is four\")"
   ]
  },
  {
   "cell_type": "markdown",
   "metadata": {},
   "source": [
    "És akkor lássuk a Gauss módszer implementációját:"
   ]
  },
  {
   "cell_type": "markdown",
   "metadata": {},
   "source": [
    "#### Gauss módszer pythonban:"
   ]
  },
  {
   "cell_type": "code",
   "execution_count": 22,
   "metadata": {},
   "outputs": [
    {
     "name": "stdout",
     "output_type": "stream",
     "text": [
      "Az első fázis után így néz ki az A matrixunk:\n",
      "[[  2   9   8   7]\n",
      " [  0 -15  -6  -6]\n",
      " [  0   0 -10  -4]\n",
      " [  0   0   0  -8]]\n",
      "[-0.3825  0.01    0.85    0.125 ]\n",
      "0.0010013580322265625\n"
     ]
    }
   ],
   "source": [
    "# imports\n",
    "import numpy as np\n",
    "import time\n",
    "\n",
    "\n",
    "# definition of Gauss elimintion function\n",
    "def gauss(a, b, dimension):\n",
    "    \n",
    "    #variables\n",
    "    l=np.zeros([dimension,dimension])\n",
    "    x=np.zeros([dimension])\n",
    "    \n",
    "#Gauss elimination phase\n",
    "#Making the upper triangle matrix\n",
    "\n",
    "    for k in range(0, dimension-1):\n",
    "        for i in range(k+1, dimension):\n",
    "            l[i,k] = a[i,k] / a[k,k]\n",
    "            b[i] = b[i] - (l[i,k] * b[k])\n",
    "            for j in range(k,dimension):\n",
    "                a[i,j] = a[i,j] - (l[i,k] * a[k,j])\n",
    "    \n",
    "    print(\"Az első fázis után így néz ki az A matrixunk:\")\n",
    "    print(a)      \n",
    "#Gauss replacement phase \n",
    "#Calculate the x values\n",
    "\n",
    "    x[dimension-1]= b[dimension-1]/a[dimension-1,dimension-1]\n",
    "    \n",
    "   ## for i in range(dimension):\n",
    "     #   x[i]=b[i]/a[i,i]\n",
    "      #  print (x[i])\n",
    "        \n",
    "    for i in range(dimension-1, -1, -1):\n",
    "        s=0\n",
    "        for j in range(i+1,dimension):\n",
    "            s = s + a[i,j] * x[j]\n",
    "            x[i] = (b[i] - s)/a[i,i]\n",
    "             \n",
    "            \n",
    "    return(x)\n",
    "\n",
    "\n",
    "start = time.time()\n",
    "# initialization\n",
    "a=np.array([[2,9,8,7], [3,-2,6,4],[5,8,4,7],[6,9,10,2]])\n",
    "b=np.array([7,4,2,6])\n",
    "dimension=4\n",
    "x_g=gauss(a,b,dimension)\n",
    "print(x_g)\n",
    "time_gauss=time.time()-start\n",
    "print(time_gauss)\n",
    "      "
   ]
  },
  {
   "cell_type": "markdown",
   "metadata": {},
   "source": [
    "Láthatjuk futás időben elég közel van a numpyban lévő megoldáshoz. De nem kapunk olyan pontos eredményt."
   ]
  },
  {
   "cell_type": "markdown",
   "metadata": {},
   "source": [
    "#### Főelem kiválasztás"
   ]
  },
  {
   "cell_type": "markdown",
   "metadata": {},
   "source": [
    "A fenti algoritmus csak olyan mátrixokat képes megoldani amikben egyik együttható sem nulla. Hogy képes legyen rá ki kell egészíteni főelem kiválasztással. A főelem kiválasztás azt jelenti, hogy a sorokat úgy cseréljük fel, hogy az aktuális pivot elemünk ne legyen nulla. A főelemkiválasztás lehet részleges vagy teljes. Részleges főelem kiválasztásnál a $k$-adik lépésben megkeressük a $k$-adik oszlop elemei közül a maximális abszolút értékű $a_{ik}$ együtthatót és ez az $j$-edik sorban van akkor megcseréljük a $j$-edik és a $k$-adik sort. Ezzel fogunk majd találkozni a gauss-Jordan módszer implementációjánál. A teljes főelem kiválasztás során pedig a $k$-adik lépésben megkeressük a mátrixban szereplő értékek közül a maximális abszolút értékűt és ha ez a $a_{ij}$ akkor a $k$-adik sort felcseréljük az $i$-edikkel és a $k$-adik oszlopot is felcseréljük a $j$-edikkel.  "
   ]
  },
  {
   "cell_type": "markdown",
   "metadata": {},
   "source": [
    "#### Gauss-Jordan módszer pythonban"
   ]
  },
  {
   "cell_type": "markdown",
   "metadata": {},
   "source": [
    "Egy másik lehetséges módszer az egyenletrendszerek megoldására a Gauss-Jordan módszerezt leimplementálhatjuk mi magunk is, de én most egy másik csomagot a SymPy-t fogom segítségül hívni.\n",
    "Első lépésnek vegyük az $A$ mátrixunkat és a $b$ vektorunkat, majd használjuk az A mátrixra definiált `gauss_jordan_solve` mmetódust melynek paraméterként a $b$ vektort adjuk meg. A metódus két visszatérési értéke a megoldás és a mátrix."
   ]
  },
  {
   "cell_type": "code",
   "execution_count": 11,
   "metadata": {},
   "outputs": [
    {
     "name": "stdout",
     "output_type": "stream",
     "text": [
      "[-0.51762115  0.03597651  0.85279001  0.12701909]\n",
      "0.003010272979736328\n"
     ]
    }
   ],
   "source": [
    "from sympy import Matrix\n",
    "\n",
    "start=time.time()\n",
    "A = Matrix([[2,9,8,7], [3,-2,6,4],[5,8,4,7],[6,9,10,2]])\n",
    "b = Matrix([7,4,2,6])\n",
    "sol, params = A.gauss_jordan_solve(b)\n",
    "\n",
    "n,m =sol.shape\n",
    "x_gj= np.zeros(n)\n",
    "for i in range(0,n):\n",
    "    x_gj[i]= sol[i]\n",
    "\n",
    "time_gauss_jordan=time.time()-start\n",
    "print(x_gj)\n",
    "print(time_gauss_jordan)"
   ]
  },
  {
   "cell_type": "markdown",
   "metadata": {},
   "source": [
    "Fontos, hogy a Matrixot nem kompatibilis az np.arrayel, így az értékeket nekünk kell áthelyezni."
   ]
  },
  {
   "cell_type": "markdown",
   "metadata": {},
   "source": [
    "Van egy 4. módszer is a lineáris egyenlet rendszer megoldására a `scipy` csomagban, ami az lu faktorizáción alapul. A metódus neve pedig `lu_solve` és az alábbi módon lehet használni:"
   ]
  },
  {
   "cell_type": "code",
   "execution_count": 12,
   "metadata": {},
   "outputs": [
    {
     "name": "stdout",
     "output_type": "stream",
     "text": [
      "[-0.51762115  0.03597651  0.85279001  0.12701909]\n",
      "0.0010383129119873047\n"
     ]
    }
   ],
   "source": [
    "from scipy.linalg import lu_factor, lu_solve\n",
    "\n",
    "start=time.time()\n",
    "A = np.array([[2,9,8,7], [3,-2,6,4],[5,8,4,7],[6,9,10,2]])\n",
    "b = np.array([7,4,2,6])\n",
    "lu, piv = lu_factor(A)\n",
    "x_lu = lu_solve((lu, piv), b)\n",
    "\n",
    "time_lu=time.time()-start\n",
    "print(x_lu)\n",
    "print(time_lu)"
   ]
  },
  {
   "cell_type": "markdown",
   "metadata": {},
   "source": [
    "Most lássunk egy összesítő táblázatot a 3 módszerről: "
   ]
  },
  {
   "cell_type": "code",
   "execution_count": 30,
   "metadata": {},
   "outputs": [
    {
     "data": {
      "text/html": [
       "<div>\n",
       "<style scoped>\n",
       "    .dataframe tbody tr th:only-of-type {\n",
       "        vertical-align: middle;\n",
       "    }\n",
       "\n",
       "    .dataframe tbody tr th {\n",
       "        vertical-align: top;\n",
       "    }\n",
       "\n",
       "    .dataframe thead th {\n",
       "        text-align: right;\n",
       "    }\n",
       "</style>\n",
       "<table border=\"1\" class=\"dataframe\">\n",
       "  <thead>\n",
       "    <tr style=\"text-align: right;\">\n",
       "      <th></th>\n",
       "      <th>x1</th>\n",
       "      <th>x2</th>\n",
       "      <th>x3</th>\n",
       "      <th>x4</th>\n",
       "      <th>time</th>\n",
       "    </tr>\n",
       "  </thead>\n",
       "  <tbody>\n",
       "    <tr>\n",
       "      <td>solve</td>\n",
       "      <td>-0.517621</td>\n",
       "      <td>0.035977</td>\n",
       "      <td>0.85279</td>\n",
       "      <td>0.127019</td>\n",
       "      <td>0.001008</td>\n",
       "    </tr>\n",
       "    <tr>\n",
       "      <td>gauss</td>\n",
       "      <td>-0.382500</td>\n",
       "      <td>0.010000</td>\n",
       "      <td>0.85000</td>\n",
       "      <td>0.125000</td>\n",
       "      <td>0.001001</td>\n",
       "    </tr>\n",
       "    <tr>\n",
       "      <td>gauss_jordan</td>\n",
       "      <td>-0.517621</td>\n",
       "      <td>0.035977</td>\n",
       "      <td>0.85279</td>\n",
       "      <td>0.127019</td>\n",
       "      <td>0.003010</td>\n",
       "    </tr>\n",
       "    <tr>\n",
       "      <td>Lu</td>\n",
       "      <td>-0.517621</td>\n",
       "      <td>0.035977</td>\n",
       "      <td>0.85279</td>\n",
       "      <td>0.127019</td>\n",
       "      <td>0.001038</td>\n",
       "    </tr>\n",
       "  </tbody>\n",
       "</table>\n",
       "</div>"
      ],
      "text/plain": [
       "                    x1        x2       x3        x4      time\n",
       "solve        -0.517621  0.035977  0.85279  0.127019  0.001008\n",
       "gauss        -0.382500  0.010000  0.85000  0.125000  0.001001\n",
       "gauss_jordan -0.517621  0.035977  0.85279  0.127019  0.003010\n",
       "Lu           -0.517621  0.035977  0.85279  0.127019  0.001038"
      ]
     },
     "execution_count": 30,
     "metadata": {},
     "output_type": "execute_result"
    }
   ],
   "source": [
    "import pandas as pd\n",
    "\n",
    "\n",
    "\n",
    "\n",
    "df = pd.DataFrame(np.array([ [x_solve[0], x_solve[1], x_solve[2],x_solve[3], time_solve], [x_g[0], x_g[1], x_g[2],x_g[3], time_gauss], [x_gj[0], x_gj[1], x_gj[2],x_gj[3], time_gauss_jordan],[x_lu[0], x_lu[1], x_lu[2],x_lu[3], time_lu] ]),\n",
    "                   columns=['x1', 'x2', 'x3','x4' ,'time'], index=['solve', 'gauss', 'gauss_jordan' , 'Lu'])\n",
    "\n",
    "df"
   ]
  }
 ],
 "metadata": {
  "kernelspec": {
   "display_name": "Python 3",
   "language": "python",
   "name": "python3"
  },
  "language_info": {
   "codemirror_mode": {
    "name": "ipython",
    "version": 3
   },
   "file_extension": ".py",
   "mimetype": "text/x-python",
   "name": "python",
   "nbconvert_exporter": "python",
   "pygments_lexer": "ipython3",
   "version": "3.7.4"
  }
 },
 "nbformat": 4,
 "nbformat_minor": 4
}
