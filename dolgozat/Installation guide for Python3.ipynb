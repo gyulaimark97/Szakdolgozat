{
 "cells": [
  {
   "cell_type": "markdown",
   "metadata": {},
   "source": [
    "# Python telepítés segédlet"
   ]
  },
  {
   "cell_type": "markdown",
   "metadata": {},
   "source": [
    "Ha szeretnénk pythonban programozni ahoz szükségünk van egy szövegszerkesztőre vagy integrált fejlesztő környezetre és a program futtatásahoz egy python értelmezőre. A python értelmező ingyenesen elérhető a <a href=\"https://www.python.org\">python weboldaláról</a>. Népszerűbb linux disztribúciók, mint az Ubuntu, Debian, Linux Mint ...stb, már magába foglalja az értelmezőt ezért telepíteni sem kell. a csomagok telepítéséhez még szükségünk van a __pip__ nevű csomagkezelőre is. A pip segítségével tudjuk telepíten lokálisan vagy globálisan a felhasználni kívánt csomagokat is melyek előre megírt program könyvtárak tulajdonképpen, melyeket fel használhatunk ahoz, hogy ne mindent nekünk kelljen implementálni. Ilyen csomagok a Numpy, Matplotlib, Scipy, vagy a Jupyter notebook is melyeket használok a későbbiekben."
   ]
  },
  {
   "cell_type": "markdown",
   "metadata": {},
   "source": [
    "## Python telepítése"
   ]
  },
  {
   "cell_type": "markdown",
   "metadata": {},
   "source": [
    "Első lépésként le kell töltenünk a python értelmezőt a megfelelő operációs rendszerünkre, itt kicsit ketté szakad a telepítés folyamata mivel a Unix szerű rendszereken (Linux, Apple Mac OS) forráskódból kell fordítanunk és telepíteni, míg Microsoft Windows és Apple Mac Os rendszer alatt csak a telepítő varázslón kell végig mennünk. Windows alatt a telpítőbe konfigurálhatjuk mit telepítsünk és azt is, hogy csak a saját felhasználónknak vagy pedig mindenkinek szeretnénk telepíteni, útóbbihoz rendszergazdai jogosultság szükséges. Unix szerű rendszereken sem sokkal nehezebb a dolgunk bár teljesen más, először is le kell tölteni a forrást szintén a python weboldaláról, majd kicsomagolni ezek után elnavigálunk egy terminálban a mappába melybe kicsomagoltunk és futtatnunk kell a configure nevezetű bash scriptet (__./configure__ paranccsal tudjuk megtenni). Miután végzett kiadjuk a __make__ parancsot mellyel elkezdődik a fordítási folyamat és felépül az alkalmazás esetünkben a CPython értelmező. A következő lépés a __make test__ mely ellenőrzi, hogy minden rendben ment, majd jöhet a __sudo make install__ mellyel telepítjük az értelmezőt (make install előtt ott van a sudo így láthatjuk hogy ehez szükségünk lesz root jogra (superuser)).  \n",
    "\n",
    "_Megjegyzés:_\n",
    "- _Itt ha a fordítás vagy a telepítés során hibába ütközünk valószínüleg hiányzik valamilyen csomag a számítógépünkről amit telepítenünk kell, ha ez megtörtént, újra le kell futattni a parancsot amiben a hibát kaptuk és folytatódhat a folyamat tovább._\n",
    "\n",
    "- _Egyes linux disztribúciók rendelkeznek előre telepített értelmezővel, így felesleges telepíteni azt, ellenőrizzük le először, hogy telepítve van-e. Illetve némely linux disztribúció (főleg a debian alapúak mint, Debian, Ubuntu, Linux mint) különbséget tesz a python2 és python3 közözótt előbbit terminálból __python__ míg utóbbit __python3__ paranccsal érjük el és ez igaz a pip csomagkezelőre is, tehát, ha python3-al dolgozunk akkor a __pip3__-al tudunk hozzá csomagokat telepíteni._"
   ]
  },
  {
   "cell_type": "markdown",
   "metadata": {},
   "source": [
    "Ha megvagyunk az értelmező telepítésével, szükségünk lesz a python csomagkezelőjére ami a pip, ezt következő képpen telepíthetjük:\n",
    "- Linux, Mac terminal és Windows parancssor: egyszerűen kiadjuk a python (vagy python3) get-pip.py parancsot\n",
    "- Python értelmezőből: python get-pip.py"
   ]
  },
  {
   "cell_type": "markdown",
   "metadata": {},
   "source": [
    "## pip "
   ]
  },
  {
   "cell_type": "markdown",
   "metadata": {},
   "source": [
    "A pipet egyszerűen lehet használni terminálban vagy windwos parancssorban begépeljük hogy pip (vagy pip3) és megadjuk a csomag nevét amit szeretnénk telepíteni:\n",
    "- _pip somPackage_\n",
    "- _python pip -m somePackage_ \n",
    "\n",
    "\n",
    "\n",
    "Esetleg csinálhatunk olyat is, hogy összeírjuk a csomagokat egy szövegfájlba (soronként egy csomagot ) és telepítjük a \n",
    "- _pip -r csomagnevek.txt_\n",
    "\n",
    "parancs segítségével.\n",
    "\n",
    "pip weboldala: https://pip.pypa.io/en/stable/"
   ]
  },
  {
   "cell_type": "markdown",
   "metadata": {},
   "source": [
    "## Anaconda"
   ]
  },
  {
   "cell_type": "markdown",
   "metadata": {},
   "source": [
    "A telepítés egy egyszerűsített változata, ha telepítjük az Anaconda környezetet. Az Anaconda egy tudományos gépi tanulásos platform melyben összegyűjtöttek több, mint 7500 python és R csomagot, melyeket egyszerűen grafikus kezelő felület mellett telepíthetünk,ezen kívül biztosít még IDE-ket (Spyder, Visual Studio Code) illetve a Jupyter notebookot melyben ez a dolgozat is írodott. Az Anaconda telepítése egyszerű felmegyünk a <a href=\"https://www.anaconda.com/\">weboldalára</a>, letöltjük és telepítjük Windows alatt mind a 32 és 64 bites verzió támogatott míg Mac OS alatt választhatunk grafikus vagy parancssoros telepítő között, Linux alatt pedig támogatott az IBM Power 8 és 9 architektúrája is, az x86-64 mellett."
   ]
  },
  {
   "cell_type": "markdown",
   "metadata": {},
   "source": [
    "## Jupyter munkafüzet"
   ]
  },
  {
   "cell_type": "markdown",
   "metadata": {},
   "source": [
    "A Jupyter notebookról még csak említés szintjén volt szó, most nézzünk bele kicsit mélyebben mi is ez. A jupyter notebook tulajdonképpen egy nyílt forráskódú web alkalmazás mely lehetőséget nyújt arra, hogy olyan interaktív dokumentumokat készítsünk és sosszunk meg melyek egyszerre tartalmaznak futtatható kódokat és magyarázó szöveget, vizualizációkat. A legelterjedtebben Python nyelvvel használják de támogat több, mint 40 programozási nyelvet köztük a C++, R, Ruby, julia és Calysto scheme programozási nyelveket és a notebook ideális adat vizualizációra, numerikus számításokhoz, gépi tanuláshoz és statisztikai modellekhez.\n",
    "\n",
    "Maga a munkafüzet egy json szintaktikáju .ipynb kiterjesztésű fájl mely úgynevezett cellákból áll. A celláknak vannak típusai: \n",
    "- __markdown:__ a markdown cellákban lehet a szöveget írni különböző formázási lehetőségekkel. A markdown cellák támogatják a HTML elemeket és a Latex matetmatikai módját, illetve más leíró nylevekből is vett át egy két dolgot.\n",
    "- __code:__ a code cellákban helyezhetjük el a kódunkat melyet le szeretnénk futtatni\n",
    "- __heading:__ tulajdonképpen egy markdown cella csak rak a jupíter egy #-ot az elejére ami a legnagyobb headinget jelöli\n",
    "- __raw:__ egy cella mely nem kerül formázásra\n",
    "\n",
    "A munkafüzet az IPython shellt használja, amely lehetővé teszi nekünk ezt és az interaktív widget-ek használatát is a munkafüzetben, melynek a segítségével így akár a kódunk paramétereit is megváltoztathatjuk."
   ]
  }
 ],
 "metadata": {
  "kernelspec": {
   "display_name": "Python 3",
   "language": "python",
   "name": "python3"
  },
  "language_info": {
   "codemirror_mode": {
    "name": "ipython",
    "version": 3
   },
   "file_extension": ".py",
   "mimetype": "text/x-python",
   "name": "python",
   "nbconvert_exporter": "python",
   "pygments_lexer": "ipython3",
   "version": "3.7.4"
  }
 },
 "nbformat": 4,
 "nbformat_minor": 4
}
