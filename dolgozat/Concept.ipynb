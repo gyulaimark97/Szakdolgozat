{
 "cells": [
  {
   "cell_type": "markdown",
   "metadata": {},
   "source": [
    "# Szoftvereszközök numerikus számításokhoz"
   ]
  },
  {
   "cell_type": "markdown",
   "metadata": {},
   "source": [
    "A numerikus számítások lényege, hogy valamilyen algoritmust végrehajtva eljutunk a probléma egy közelítő megoldásához és ezt egy számítógépes program segítségével tesszük. Ez a program lehet egy előre megírt program csomag része, de akár írhatunk magunk is specifikus problémákra saját programokat is. Ezt megtehetjük akár egy eolyan eltejedt általános programozási nyelven mint például a __C__ vagy a __Java,__ de akár használhatunk egy ilyen feladatokra készített nyelvet vagy programcsomagot is a különbség a nehézségben és az időben rejlik, hiszen az egyiket erre találták ki előre definiálva vannak benne szükséges függvények konstansok, míg a másikban alapjaitól fel kell építeni szinte mindent. Szerencsére jópár, numerikus számításokhoz használható szoftvercsomag és nyelv létezik, ebben a fejezetben ezekről és ezek előnyeiről és hátrányairól fogok írni, illetve a fejezet végén szó esik majd a __Python__ eszközkészletéről is."
   ]
  },
  {
   "cell_type": "markdown",
   "metadata": {},
   "source": [
    "## Alapvető elvárások"
   ]
  },
  {
   "cell_type": "markdown",
   "metadata": {},
   "source": [
    "Először is beszáljünk az alapvető elvárásokról amiket egy ilyen nyelvvel vagy szoftvercsomaggal szemben felállíthatunk. Kezdjük a programozhatósággal, fontos, hogy tudjunk benne programokat írni, hogy speciális feladatokat tudjunk vele meg oldani, esetlegesen új módszereket tudjunk implementálni vagy csak egy módszer optimálisabb implementációját szeretnénk elkészíteni és ne csak olyan problémákra adjon a programcsomag megoldást amit előzetesen annak fejlesztői implementáltak. A programozhatóság ebben a kontextusban elég, ha lekorlátozódik arra, hogy itt matematikai problémák megoldására tudjunk programokat írni, ezért nem feltétlenül kell általános nyelvnek lennie, erre jó példa a __Matlab__ amit mátrix műveletekhez optimalizáltak vagy az __R__ ami egy statisztikai programcsomag, ellen példa a __Python__ mely egy általános célú nyelv de a `NumPy` csomag segítségével használhatunk ilyen célokra. A programozhatóság mellett fontos még a programozási nyelv milyensége. Általában matematikusok, kutatók, mérnökök használják ezeket tudományos vagy mérnöki célokra, illetve diákoknak tanítják a numerikus módszereket ezekkel a programcsmoagokkal és ők itt csak felhasználók és nem mindig várható el a felhasználóktól, hogy a programozás minden szempntjával és fortélyával tisztában legyenek így egy viszonylag könnyen tanulható nyelv az amire szükség van ilyen célokra, lehetőleg valamilyen egyszerűen megérthető praradigmára építsen, mint az objektum orientáltság vagy a procedurális programozás vagy néha elég lehet az is ha csak matematikai formában adjuk meg a megoldandó feladatot. A programozási nyelvek melyekről itt, majd részletesebb is lesz szó elég könnyen tanulhatóak kivétel a __Fortran__ ami nehezebben illetve a __Wolfram Matematica__ eddig említettektől teljesen eltérő szimbolikus nyelve ellenben a __WolframAlpha__ képes matematikai formában megadott problémákat is megoldani. Fontos még ezeken felül, hogy a programokat fájlokba tudjuk menteni és ezáltal hordozhatóvá tenni őket, és ez nem csak a programok forráskódjaira legyen igaz hanem az eredményekre is. Szükséges az, hogy el lehessen menteni a kapott eredményeket, adatokat későbbi felhasználás, illetve áttanulmányozás érdekében. Az érem másik oldala legalább annyira hasznos és fontos be is kell tudni olvasni az adatokat különböző adastruktúrákból, különböző formátumú fájlokból ezért szükséges a népszerűbb adatfájl formátumok támogatás is ilyen például a CSV, Json, XML vagy csak egy sima szöveges (.txt) fájl. Az adatok mentése mellett a bemutatásuk is fontos lehet hiszen az emberek nagy része a grafikus ábrákból egyszerűbben letudja olvasni az adatokat, ezért szükséges, hogy a program csomag valamilyen módon tudjon ábrákat készíteni. A programokat és módszereket nem csak megírni, menteni és reprezentálni kell, hanem dokumentálni is azokat ezért szükséges hogy az adott nyelvnek és csomagnak ezt támogatnia kell. Egy nagyon jó példa erre a __Python__ amivel használhatjuk a a `Jupyter` munkafüzetet melyben a dokumentum cellákból épül fel és a cellákban egyszerre tudunk programozni és dokumentálni is. A teljesítmény egy nagyon triviális követelmény de egy nagyon fontos tényező is, bár nagyon nagy adatokhoz szükséges egy erős hardver, de szükséges az is, hogy gyengébb hardveren is futtatható legyen a kód viszonylag jó futási idővel. Erre a problémára egy megoldás még a cloud (felhő) amihez egy viszonylag gyors internet kapcsolat elég. Egyszerűen működik, elküldjük a bemenő adatokat és a programot majd visszakapjuk az eredményt, bár fontos megjegyezni, hogy ez érzékeny adatok esetén nem lehet megoldás hiszen a szerver üzemeltetői láthatják ezeket. Egy utolsó, de nem elhanyagolható tényező a programcsomag és az általa használt nyelv elterjedsége is, hiszen használhatjuk a lehető leggyorsabb vagy optimálisabb nyelvet ha a világban rajtunk kívül csak még egy páran használják, de a viág többi része egy másik elfogadott nyelvet használ és így nehéz az általunk használt nyelvvel elhelyezkedni, vagy az adatainkat és programjainkat megosztani másokkal hiszen nem fogják érteni."
   ]
  },
  {
   "cell_type": "markdown",
   "metadata": {},
   "source": [
    "## Elérhető szoftverek"
   ]
  },
  {
   "cell_type": "markdown",
   "metadata": {},
   "source": [
    "A fejezet további részében az alábbi programcsomagokkal fogok foglalkozni:\n",
    "- Matlab\n",
    "- Python NumPyal\n",
    "- GNU R\n",
    "- Maple\n",
    "- Wolfram Alpha és Mathematica\n",
    "- Fortran\n"
   ]
  },
  {
   "cell_type": "markdown",
   "metadata": {},
   "source": [
    "### Fortran"
   ]
  },
  {
   "cell_type": "markdown",
   "metadata": {},
   "source": [
    "![alt text](img/FORTRAN_code_example.png \"Fortran kód példa\")\n",
    "\n",
    "\n",
    "A Fortran egy általános célú programozási nyelv melyet az IBM fejlesztett ki még az 1950-es években. Napjainkban is használatos és még napjainkban is fejlesztik. Az előzőekhez mérten nehezen tanulható nyelv ami több programozási paradigmát is támogat köztük az objektum orientáltságot, procedurális és generikus programozást is. A Fortran támogatja a fájlba írást de kimondott különböző fájlformátumú fájlok létrehozását nem így ha olyan fájlba szeretnénk az adatainkat menteni, nekünk kell gondoskodni a formai követelményekről (például: CSV esetén nekünk kell az elválasztó jelet kiteni az adatok közé.)\n",
    "\n",
    "Weboldal: https://gcc.gnu.org/fortran/,  https://wg5-fortran.org/"
   ]
  },
  {
   "cell_type": "markdown",
   "metadata": {},
   "source": [
    "### Maple"
   ]
  },
  {
   "cell_type": "markdown",
   "metadata": {},
   "source": [
    "![alt text](img/maple_logo.png \"A Maplesoft logja\")\n",
    "\n",
    "![alt text](img/Maple_screenshots.jpg \"Képernyő képek a 2016-os Mapleről\")\n",
    "\n",
    "A __Maple__ a Maplesoft által fejlesztett matematikai szoftvercsomag mely kombinál egy hatékony matematikai motort egy könnyen használható felhasználói felülettel ezáltal a használata egyszerű és gyors is tud lenni. A felhasználói felület mellett parancssoros módban is képes működni, a saját nyelvét használva, illetve scripteket is írhatunk. A Maple-t mérnöki munkára és emelett rengeteg matematikai területen be lehet vetni például numerikus számításoknál, lineáris algebrában, differenciál egyenleteknél. Nagyszerű az adatok vizualizálásában is. A Maple nem ingyenes, licenszet kell hozzá vásárolni melynek ára elég borsos, de itt is elérhető diák kedvezmény, de 15 napig ingyenesen kipróbálhatja bárki. Egyik előnye, hogy képes kommunikálni bizonyos szoftverekkel, mint a Microsoft Excel, néhány CAD szoftver, SQLite adatbázisokkal, és az újabb Matlab verziókkal is, ezzel könnyítve a munkát. Képes az ismertebb adattárolásra használt fájlokba menteni és betölteni is, mint CSV, XLS.  Elérhető Microsoft Windowsra, Linuxra, és Apple MacOS-re.\n",
    "\n",
    "Weboldala: https://www.maplesoft.com/"
   ]
  },
  {
   "cell_type": "markdown",
   "metadata": {},
   "source": [
    "### MATLAB"
   ]
  },
  {
   "cell_type": "markdown",
   "metadata": {},
   "source": [
    "![alt text](img/Matlab_Logo.png \"A Matlab logója\")\n",
    "\n",
    "![alt text](img/matlab_sreenshots.png \"Képernyő kép a Matlabról Mac-en\")\n",
    "\n",
    "A __Matlab__ a MathWorks program csomagja és programozási nyelve is egyben, egy nagyon elterjedt nyelv a világon és számos helyen használják különböző célokra mint: numerikus számítások, robotika, adat elemzés, gépi tanulás, jel feldolgozás, kockázat elemzés, és irányító rendszerek. Elsődlegesen numerikus számításokra készült nagyon jól kezelei a mátrixokat és vektorokat. Szintaktikája a C-re hasonlít, de vannak eltérések. Képes több szálon dolgozni és támogatja a procedurális és objektum orientált programozási paradigmákat is. Elérhető Microsoft Windows, Linux, és Apple MacOS operációsrendszerű gépekre. A Matlab nem egy ingyenes szoftver meg kell vásárolni, de van lehetőségünk ingyenesen kipróbálni illetve van kedvezmény diákok számára. A Matlab is képes importálni és exportálni az adatokat a leginkább használt fájltípusokból.\n",
    "\n",
    "MathWorks weboldala: https://www.mathworks.com/"
   ]
  },
  {
   "cell_type": "markdown",
   "metadata": {},
   "source": [
    "### Python/NumPy"
   ]
  },
  {
   "cell_type": "markdown",
   "metadata": {},
   "source": [
    "#### Python\n",
    "\n",
    "![alt text](img/python-logo.png \"A Python hivatalos logója\")\n",
    "\n",
    "![alt text](img/Python_screenshot.png \"Egyszerű Hello World! program Pycharm környezetben\")\n",
    "\n",
    "![alt text](img/jupyter_screenshot.png \"Jupyter notebook használat közben\")\n",
    "\n",
    "Ahogy a bevezető részben már írtam python egy nagyon magas szintű, platform független, általános programozási nyelv ami a világon jelen pillanatban a 3. legnépszerűbb (https://www.tiobe.com/tiobe-index/) ebből adódoan nagyon elterjedt. Nagyon nagy előnye a könnyű tanulhatósága, sokoldalúsága és bővíthetősége ezen tulajdonságai miatt rengeteg területen alkalmazzák. Mivel ez egy nyelv nem pedig programcsomag így szükségünk lesz valamilyen fejlesztő eszközre és egy interpreterre vagy compiler-re a használatához. A `NumPy` és `Matplotlib` csomagokat használva tökéletes szimbolikus számításokhoz. Jelenleg a Python Software Fundation (PSF) fejleszti. Ingyenesen elérhető bárki számára. A Python a ma használt platformok közül rengeteget támogat: Microsoft Windows, Linux, MacOS, iOS, IBM AIX, IBM z/OS, IBM i, Solaris,VMS, HP-UX, mint ahogy rengeteg fájltípust is támogat, adat export és adat importálás szempontjából is. \n",
    "\n",
    "Weboldala: https://www.python.org/\n",
    "\n",
    "#### NumPy\n",
    "\n",
    "<img src=\"img/numpy_logo.png\"/>\n",
    "\n",
    "\n",
    "A `NumPy` csomag egy alapvető csomag a Pythonhoz tudományos számítások elvégzéséhez, mely tartalmazza az erős N dimenziós `array` objektumot mely az alapja a vektor és mátrix műveleteknek, ezenfelül tartalmaz még olyan kifinomult metódusokat melyeket felhasználhatunk programunk megírása során, előre definiált konstansokat, hasznos a lineáris algebrában és  a Furier transzformációknál használatos illetve random szám generálással kapcsolatos függvényeket. Ezen felül található még benne egy két olyan eszköz melynek a segítségével __C/C++__ vagy __Fortran__ kódot tudunk integrálni a saját __Python__ kódunkba.\n",
    "\n",
    "Weboldala: https://numpy.org/\n",
    "\n",
    "#### Matplotlib\n",
    "\n",
    "<img src=\"img/matplotlib_logo.png\"/>\n",
    "\n",
    "A `Matplotlib` csomag segítségével tudjuk vizualizálni az általunk használt adatokat vagy általunk kiszámított adatokat. 2D-s grafikonokat és ábrákat készíthetünk a segítségével.\n",
    "\n",
    "Weboldala: https://matplotlib.org/"
   ]
  },
  {
   "cell_type": "markdown",
   "metadata": {},
   "source": [
    "### GNU R"
   ]
  },
  {
   "cell_type": "markdown",
   "metadata": {},
   "source": [
    "\n",
    "<img src=\"img/R_logo.png\"/>\n",
    "\n",
    "![alt text](img/R_screen.png \"R Ubuntu környezetben\")\n",
    "\n",
    "A __GNU R__ egy ingyenes szoftvercsomag, melyet elsődlegesen a statisztikai számítások során alkalmaznak. Az __R__ nem csak egy programcsomag hanem egy programozási nyelv is egyben. Az R-t ahogy már említettem statisztikai problémák megoldásánál érdemes használni, de a nyelv egy nagy előnye, hogy nyílt forráskódú és ezáltal nagyon sok csomag készült hozzá és ez kibővíti a képességeit több irányba is. Az R elérhető Microsoft Windowsra, Linuxra, és Apple MacOS-re is. Az R is képes importálni és exportálni az adatokat a leginkább használt fájltípusokból, mint a CSV vagy XLS.\n",
    "\n",
    "Weboldala: https://www.r-project.org/"
   ]
  },
  {
   "cell_type": "markdown",
   "metadata": {},
   "source": [
    "### Wolfram: Mathematica, Wolfram Alpha"
   ]
  },
  {
   "cell_type": "markdown",
   "metadata": {},
   "source": [
    "#### Wolfram Alpha\n",
    "\n",
    "<img src=\"img/alpha_logo.svg\"/>\n",
    "\n",
    "![alt text](img/alpha_screen.png \"A Wolfram Alpha weboldala\")\n",
    "\n",
    "A Wolfram Alpha nem is igazán egy szoftvercsomag inkább egy probléma megoldó szoftver melyet a Wolfram fejleszt és mely ötvözi a természetes nyelv feldolgozást, az adatbányászatot és a dinamikus programozást ezáltal talál a megadott problémára megoldást. Az Alpha mögött óriási adatbázi húzódik. Létezik ingyenes megvalósítása mely elérhető a weboldalán, illetve van egy Wolfram Alpha Pro elnevezésű változata is mely többet nyújt de fizetni kell érte. Az alpha a fejlesztőknek rengeteg API-t nyújt melynek egy része ingyenes egy részéért viszont szintén fizetni kell.\n",
    "\n",
    "Weboldala: https://www.wolframalpha.com/\n",
    "\n",
    "#### Wolfram Matematica\n",
    "\n",
    "<img src=\"img/math_logo.png\"/>\n",
    "\n",
    "A Matematica szintén a Wolfram által fejlesztett matematikai programcsomag, a Matlabhoz illetve a Maplehöz hasonlóan rengeteg területet lefed. A Wolfram nevezetű szimbólikus programozási nyelvet használja mely az eddigiektől nagyon eltérő. A program csomag szintén nem ingyenes és elérhető Microsoft Windowsra, Linuxra, és Apple MacOS-re és itt is találunk diák kedvezményt. Ha nem szeretnénk megvenni a teljes csomagot vagy nincs elég erős számítógépünk hozzá akkor elérhető a Matematica Cloud amire elő lehet fizetni egy évre és csak egy böngésző és internet kapcsolat szükséges hozzá. Az Alpha és a Matematica is támogatja az adatok importálását és eportálását népszerű fájlformátumú fájlokba.\n",
    "\n",
    "Weboldala: https://www.wolfram.com/mathematica/"
   ]
  },
  {
   "cell_type": "markdown",
   "metadata": {},
   "source": [
    "## Python eszközkészlet"
   ]
  },
  {
   "cell_type": "markdown",
   "metadata": {},
   "source": [
    "A szakdolgozatban a Python nyelvet fogom használni és azon belül is nagyrészben a Jupyter munkafüzetben dolgozom. Ahoz hogy pythonban tudjunk dolgozni szükségünk van egy python interpreterre (értelmezőre). Az interpreter értelmezi a kódot és hajtja azt végre. Több fajta python interpreter létezik. A legelterjedtebb a CPython mely C-be és Pythonban íródott, ez a referencia interpreter és ebből indul ki a többi interpreter is. Van interpreter mely engedi hogy Java nyelvű kódot enged haszálni és olyan is mely a pythont lefordítja C vagy C++ nyelvű kóddá vagy éppen olyan is ami JavaScript-et varázsol a mi kis python kódunkból.\n",
    "\n",
    "Mivel Jupyter munkafüzetet használok így használom az IPython nevezetű shellt is. Mi is az az IPhyton. Az IPhyton mint már mondtam egy shell ami tartalmazza a Jupyter kernelét és támogatja különböző interpreterek használatát. Itt most a referencia CPython interpretert használom majd. Ezen felül támogatja az IPhyton az interaktív adat vizualizációt és a párhuzamosítást is ha szükség lenne rá, illetve támogat különböző GUI toolkiteket is. Az Adatok vizualizációjáért a fent már említett Matplotlib csomag lesz felelős. \n",
    "\n",
    "Ahoz hogy programozzunk valamilyen nyelven kell valamilyen szöveg szerkeztő vagy IDE és ez a Pythonnal sincs másképp. Pythonhoz elérhető több nagytudású IDE is, mint a Spyder, Jupyter, Pycharm.\n",
    "\n",
    "Kezdjük a Jupyterrel ez egy open-source web-alkalmazás mely olyan dokumentumok létrehozását, szerkeztését, megosztását teszi lehetővé melyben a programkódok lefuttathatóak ezáltal olyan interaktív dokumentumot készíthetünk melyben a programok bemutathatóak és a kapott adatok könnyen vizualizálhatóak. A Jupyter több mint 40 programozási nyelvet támogat.\n",
    "\n",
    "Használhatjuk akár a Spydert is ami eg IDE kifejezetten Pythonhoz. Főleg tudományos célú használatra készült és mint a Jupyter az IPythont használja. mint minden IDE-t könnyű telepíteni és elkezdeni vele dolgozni. Az Anaconda platformon belül  ingyenesen érhető el.\n",
    "\n",
    "Harmadik fejlesztő eszközünk a Pycharm amit a JetBrains fejleszt. Létezik egy ingyenes Community Edition és egy megvásárolható Professional Edition. A Professional Edition sokkal több funkciót támogat a Community Edition-el szemben. A Pycharm azoknak kimondottan előnyös akik használtak már valamilyen másik JetBrains által fejlesztett IDE-t hiszen a megszokott kezelő felülettel fognak találkozni. "
   ]
  }
 ],
 "metadata": {
  "kernelspec": {
   "display_name": "Python 3",
   "language": "python",
   "name": "python3"
  },
  "language_info": {
   "codemirror_mode": {
    "name": "ipython",
    "version": 3
   },
   "file_extension": ".py",
   "mimetype": "text/x-python",
   "name": "python",
   "nbconvert_exporter": "python",
   "pygments_lexer": "ipython3",
   "version": "3.7.4"
  }
 },
 "nbformat": 4,
 "nbformat_minor": 4
}
