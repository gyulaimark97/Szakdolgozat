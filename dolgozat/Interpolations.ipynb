{
 "cells": [
  {
   "cell_type": "markdown",
   "metadata": {},
   "source": [
    "# Interpolációk"
   ]
  },
  {
   "cell_type": "markdown",
   "metadata": {},
   "source": [
    "## Általánosan az interpolációkról"
   ]
  },
  {
   "cell_type": "markdown",
   "metadata": {},
   "source": [
    "Az interpolációk alapfeladata az, hogy egy $f(x)$ függvény felvett értékeit különböző $x_1, x_2 x_3 \\dots x_n$ pontokban ismerjük az $[a,b](a=x_1, b=x_n)$ intervallumban és magát az $f$ függvényt szeretnénk közelíteni egy könnyen számolható $h(x)$ függvénnyel amelyre fenáll, hogy $f(x_i)=h(x_i)$.\n",
    "Az ${x_i}_{i=1}^n$ pontokat interpolációs alappontoknak, a feltételt interpolációs feltételnek nevezzük. Az interpolációs feltétel teljesülése esetén azt reméljük, hogy az interpoláló $h(x)$ függvény jól közelíti az $f(x)$ függvényt az $[x_i,x_i+1]$ intervallumokban."
   ]
  },
  {
   "cell_type": "markdown",
   "metadata": {},
   "source": [
    "## Lagrange interpoláció "
   ]
  },
  {
   "cell_type": "code",
   "execution_count": null,
   "metadata": {},
   "outputs": [],
   "source": []
  }
 ],
 "metadata": {
  "kernelspec": {
   "display_name": "Python 3",
   "language": "python",
   "name": "python3"
  },
  "language_info": {
   "codemirror_mode": {
    "name": "ipython",
    "version": 3
   },
   "file_extension": ".py",
   "mimetype": "text/x-python",
   "name": "python",
   "nbconvert_exporter": "python",
   "pygments_lexer": "ipython3",
   "version": "3.7.4"
  }
 },
 "nbformat": 4,
 "nbformat_minor": 4
}
