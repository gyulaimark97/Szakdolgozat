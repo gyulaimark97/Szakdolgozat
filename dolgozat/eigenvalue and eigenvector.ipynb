{
 "cells": [
  {
   "cell_type": "markdown",
   "metadata": {},
   "source": [
    "## Sajátérték, Sajátvektor"
   ]
  },
  {
   "cell_type": "markdown",
   "metadata": {},
   "source": [
    "A mátrixok sajátértékéhez és sajátvektorához szükségünk lehet a komplex számok halmazára is. Egy ilyen komplex számokból álló mátrixot a valős számokból állóhoz hasonlóan $\\mathbb{C}^{mxn}$- el jelöljük $(\\mathbb{R}^{mxn} \\subset \\mathbb{C}^{mxn})$. nézzük először a sajátvektor és a sajátérték definícióját:\n",
    "\n",
    "Legyen $A \\in \\mathbb{C}^{nxn}$ tetszőleges mátrix. A $\\lambda \\in \\mathbb{C}$ számot az $A$ mátrix sajátértékének és az $x \\in \\mathbb{C}^n \\quad (x\\neq0)$ vektort pedig $\\lambda$ sajátértékhez tartozó sajátvektornak nevezzük, ha \n",
    "\n",
    "$$\n",
    "Ax=\\lambda x.\n",
    "$$"
   ]
  },
  {
   "cell_type": "markdown",
   "metadata": {},
   "source": [
    "Fontos, hogy egy mátrix sajátértékeinek összeségét a mátrix spektrumának nevezzük és a spektrumból a mátrix fontos tulajdonságait lehet kiolvasni például:\n",
    "- Egy négyzetes mátrix akkor és csak akkor nemszinguláris ha egyik sajátértéke sem nulla.\n",
    "- Egy mátrix akkor és csak akkor pozitív definit, ha minden sajátértéke pozitív."
   ]
  },
  {
   "cell_type": "markdown",
   "metadata": {},
   "source": [
    "A sajátértékeket úgy kaphatjuk meg ha megoldjuk a karakterisztikus egyenletet ami a következő:\n",
    "$$\n",
    "\\phi(\\lambda)=det(A-\\lambda i)=0\n",
    "$$\n",
    "\n",
    "ezt kifejtve megkapjuk a $\\lambda$ változó $n$-ed fokú polinomját azaz a:\n",
    "\n",
    "$$\n",
    "\\phi(\\lambda)=(-1)^n\\lambda^n+p_{n-1}\\lambda^{n-1}+\\dots+p_1\\lambda+p_0\n",
    "$$\n",
    "\n",
    "karakterisztikus polinomot.\n",
    "komplex számok körében ennek a polinomnak pontosan $n$ db zérushelye van tehát egy $A\\in \\mathbb{C}^{nxn}$ mátrixnak pontosan $n$ darab sajátértéke van, ha figyelembe vesszük a multiplicitásokat."
   ]
  },
  {
   "cell_type": "markdown",
   "metadata": {},
   "source": [
    "És most térjünk rá a Pythonban való megvalósítására. A sajátértékeket és vektorokat a numpy.linag csomagban található `eig` metódussal tudjuk kiszámolni az alábbi módon. "
   ]
  },
  {
   "cell_type": "code",
   "execution_count": 24,
   "metadata": {},
   "outputs": [
    {
     "name": "stdout",
     "output_type": "stream",
     "text": [
      "Sajátértékek:\n",
      "\n",
      "[15.22446743+0.j         -0.36573722+7.01152644j -0.36573722-7.01152644j\n",
      "  1.50700702+0.j        ]\n",
      "\n",
      "Sajátvektorok:\n",
      "\n",
      "[[-0.70120566+0.j         -0.03898627-0.5397681j  -0.03898627+0.5397681j\n",
      "  -0.0896528 +0.j        ]\n",
      " [-0.46381948+0.j         -0.63646331+0.j         -0.63646331-0.j\n",
      "  -0.46355441+0.j        ]\n",
      " [-0.29939304+0.j          0.22099982+0.05011836j  0.22099982-0.05011836j\n",
      "  -0.56682558+0.j        ]\n",
      " [-0.45116063+0.j          0.36265492+0.34521522j  0.36265492-0.34521522j\n",
      "   0.67512106+0.j        ]]\n"
     ]
    }
   ],
   "source": [
    "from numpy import linalg as LA\n",
    "import numpy as np\n",
    "\n",
    "A = np.random.randint(10, size=16)\n",
    "A = np.reshape(A,(4,4))\n",
    "\n",
    "w,v = LA.eig(A)\n",
    "print(\"Sajátértékek:\\n\")\n",
    "print(w)\n",
    "print(\"\\nSajátvektorok:\\n\")\n",
    "print(v)"
   ]
  },
  {
   "cell_type": "markdown",
   "metadata": {},
   "source": [
    "Az `eig` egy $nxn$-es mátrixot vár és két vektorral tér vissza az első (w) tartalmazza a sajátértékeket, a második (v) pedig a saját vektorokat normalizát alakban. Az i-edik (w[i]) sajátértékhez az i-edik (v[:i]) a oszlop tartalmazza a sajátvektort."
   ]
  },
  {
   "cell_type": "markdown",
   "metadata": {},
   "source": [
    "A numpy.linag csomagban találunk még egy `eigvals` mely csak a sajátértékeket számolja ki és ugyanúgy egy $nxn$-es mátrixot vár paraméterként."
   ]
  },
  {
   "cell_type": "code",
   "execution_count": 25,
   "metadata": {},
   "outputs": [
    {
     "name": "stdout",
     "output_type": "stream",
     "text": [
      "Sajátértékek:\n",
      "\n",
      "[15.22446743+0.j         -0.36573722+7.01152644j -0.36573722-7.01152644j\n",
      "  1.50700702+0.j        ]\n"
     ]
    }
   ],
   "source": [
    "w = LA.eigvals(A)\n",
    "print(\"Sajátértékek:\\n\")\n",
    "print(w)"
   ]
  },
  {
   "cell_type": "markdown",
   "metadata": {},
   "source": [
    "Ezek a metódusok a _geev  LAPACK rutint használják."
   ]
  }
 ],
 "metadata": {
  "kernelspec": {
   "display_name": "Python 3",
   "language": "python",
   "name": "python3"
  },
  "language_info": {
   "codemirror_mode": {
    "name": "ipython",
    "version": 3
   },
   "file_extension": ".py",
   "mimetype": "text/x-python",
   "name": "python",
   "nbconvert_exporter": "python",
   "pygments_lexer": "ipython3",
   "version": "3.7.4"
  }
 },
 "nbformat": 4,
 "nbformat_minor": 2
}
