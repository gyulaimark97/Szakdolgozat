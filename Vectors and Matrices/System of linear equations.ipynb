{
 "cells": [
  {
   "cell_type": "markdown",
   "metadata": {},
   "source": [
    "# Lineáris egyenletrendszerek"
   ]
  },
  {
   "cell_type": "markdown",
   "metadata": {},
   "source": [
    "## Általánosan a lineáris egyenletredszerekről"
   ]
  },
  {
   "cell_type": "markdown",
   "metadata": {},
   "source": [
    "A lineáris egyenletrendszer egy többismeretlenes egyenletrendszer melyben az ismeretenek az első hatványon vannak."
   ]
  },
  {
   "cell_type": "markdown",
   "metadata": {},
   "source": [
    "Egy $n$ egyenlet és $m$ változó esetén az egyenletrendszer általános alakja a következő:           "
   ]
  },
  {
   "cell_type": "markdown",
   "metadata": {},
   "source": [
    "$$\n",
    "x_{1,1} + x_{1,2} + \\dots + x_{1,m} = b_{1}\\\\\n",
    "x_{2,1} + x_{2,2} + \\dots + x_{2,m} = b_{2}\\\\\n",
    "\\vdots\\\\\n",
    "x_{i,1} + x_{i,2} + \\dots + x_{i,m} = b_{i}\\\\\n",
    "\\vdots\\\\\n",
    "x_{n,1} + x_{n,2} + \\dots + x_{n,m} = b_{n}\\\\\n",
    "$$"
   ]
  },
  {
   "cell_type": "markdown",
   "metadata": {},
   "source": [
    "Aztmondjuk hogy az egyenlet rendszer alulhatárolt, hogyha $n<m$ és tulhatárolt, hogyha $n>m$.\n",
    "Négyzetesnek nevezzük ha $m=n$\n",
    "Az egyenletrendszer geometriai tartalmát az alábbi módon írhatjuk le:"
   ]
  },
  {
   "cell_type": "markdown",
   "metadata": {},
   "source": [
    "Az $R^n$ euklideszi tér $d\\in R^n$ normálvektorú és $x_0\\in R^n$ ponton ́atmenő hipersíkját az\n",
    "$$(x - x_0)^Td= 0$$ egyenletet kielegıtő $x\\in R^n$ pontok határozzák meg."
   ]
  },
  {
   "cell_type": "markdown",
   "metadata": {},
   "source": [
    "Az $Ax=b$ egyenletrendszert felírhatjuk ilyen formában is:  "
   ]
  },
  {
   "cell_type": "markdown",
   "metadata": {},
   "source": [
    "$$ \n",
    "a_{1}^Tx= b_1\\\\\n",
    "a_{2}^Tx= b_2\\\\\n",
    "\\vdots\\\\\n",
    "a_{n}^Tx= b_n\\\\\n",
    "$$"
   ]
  },
  {
   "cell_type": "markdown",
   "metadata": {},
   "source": [
    "ahol $a_{i}^T={a_{i1}, \\dots a_{im}}$"
   ]
  },
  {
   "cell_type": "markdown",
   "metadata": {},
   "source": [
    "Innen láthatjuk, hogy az egynletrendszer megoldása az $m$ hipőersík közös része, ennek megfelelően 3 megoldás lehetséges:\n",
    "1. lehetőség: nincs megolás\n",
    "2. lehetőség: pontosan egy megoldása van\n",
    "3. lehetőség: végtelen sok megoldás van"
   ]
  },
  {
   "cell_type": "markdown",
   "metadata": {},
   "source": [
    "#### _Egynetrendszer konzisztenciája:_"
   ]
  },
  {
   "cell_type": "markdown",
   "metadata": {},
   "source": [
    "_Ha az $Ax=b$ egyenletrendszernek legalább egy megoldása létezik konzisztensnek nevezzük. Ha nem létezik egyetlen megoldása sem akkor az egyenletrendszer inkonzisztens_"
   ]
  },
  {
   "cell_type": "markdown",
   "metadata": {},
   "source": [
    "__Továbbiakban csak négyzetes egyenletrednszerekkel foglalkozunk__ "
   ]
  },
  {
   "cell_type": "markdown",
   "metadata": {},
   "source": [
    "## Lineáris egyenletrendszerek megoldása Pythonban, NumPy csomag segítségével"
   ]
  },
  {
   "cell_type": "markdown",
   "metadata": {},
   "source": [
    "Egy egyenletrendszert megoldani pythonban nem nehéz. A `NumPy` tartalmazza a `solve` metódust mellyel könnyedén megoldható egy-egy lineáris egyenletrendszer. A `solve` a `NumPy` linalg csomagjában található, paramáterként várja az $A$ együtthatómátrixot és a $b$ megoldásvektort. Nézzük is meg:\n",
    "\n",
    "Vegyünk először egy egyszerű egyenletrendszert, mint ez:\n",
    "$$\n",
    "    3x_1+x_1=9\\\\\n",
    "    x_0+2x_1=8\n",
    "$$\n",
    "\n",
    "ezután importáljuk a numpy csomagot"
   ]
  },
  {
   "cell_type": "code",
   "execution_count": 26,
   "metadata": {},
   "outputs": [],
   "source": [
    "import numpy as np"
   ]
  },
  {
   "cell_type": "markdown",
   "metadata": {},
   "source": [
    "Miután ezzel megvagyunk hozzuk létre az együttható métrixunkat és a megoldás vektorunkat:"
   ]
  },
  {
   "cell_type": "code",
   "execution_count": 68,
   "metadata": {},
   "outputs": [],
   "source": [
    "a=np.array([[3.0,1.0],[1.0,2.0]])\n",
    "b=np.array([9.0,8.0])"
   ]
  },
  {
   "cell_type": "markdown",
   "metadata": {},
   "source": [
    "Majd használjuk a `solve` metódust"
   ]
  },
  {
   "cell_type": "code",
   "execution_count": 70,
   "metadata": {},
   "outputs": [
    {
     "name": "stdout",
     "output_type": "stream",
     "text": [
      "[2. 3.]\n"
     ]
    }
   ],
   "source": [
    "x=np.linalg.solve(a,b)\n",
    "print(x)"
   ]
  },
  {
   "cell_type": "markdown",
   "metadata": {},
   "source": [
    "Az `allclose` és`dot` metódusok segítségével pedig le is ellenőrízhetjük az eredményt"
   ]
  },
  {
   "cell_type": "code",
   "execution_count": null,
   "metadata": {},
   "outputs": [],
   "source": [
    "np.allclose(np.dot(a, x), b)"
   ]
  },
  {
   "cell_type": "markdown",
   "metadata": {},
   "source": [
    "Ilyen egyszerű az egész, de ha nem szeretnénk az előre megírt metódust alkalmazni akkor definiálhatunk saját magunk is nekünk tetsző megoldó metódust is. Például implementálhatjuk a Gauss módszert is"
   ]
  },
  {
   "cell_type": "markdown",
   "metadata": {},
   "source": [
    "__Gauss módszer pythonban:__"
   ]
  },
  {
   "cell_type": "code",
   "execution_count": 78,
   "metadata": {},
   "outputs": [
    {
     "name": "stdout",
     "output_type": "stream",
     "text": [
      "[7.93333333 3.2       ]\n"
     ]
    }
   ],
   "source": [
    "\n",
    "#TODO CHECK AND DEBUG\n",
    "\n",
    "\n",
    "# imports\n",
    "import numpy as np\n",
    "\n",
    "\n",
    "# definition of Gauss elimintion function\n",
    "def gauss(a, b, dimension):\n",
    "    \n",
    "    #variables\n",
    "    l=np.zeros([dimension,dimension])\n",
    "    x=np.zeros([dimension])\n",
    "    i=0\n",
    "#Gauss elimination phase\n",
    "\n",
    "    while (i<dimension-1):\n",
    "        j=i+1\n",
    "        while (j<dimension):\n",
    "            l[j,i]=a[j,i]/a[i,i]\n",
    "            b[j]=b[j]-l[j,i]*b[j]\n",
    "            k=i\n",
    "            while (k<dimension):\n",
    "                a[j,k]=a[j,k]-l[j,i]*a[i,k]\n",
    "                k+=1\n",
    "            j+=1\n",
    "        i+=1\n",
    "        \n",
    "         \n",
    "#Gauss replacement phase \n",
    "    x[dimension-1]=b[dimension-1]/a[dimension-1,dimension-1]\n",
    "    i=dimension-2\n",
    "    while (i>=0):\n",
    "        s=0\n",
    "        j=i+1\n",
    "        while (j<dimension):\n",
    "            s=s+(a[i,j]*x[j])\n",
    "            j+=1\n",
    "            \n",
    "        x[i]=b[i]-s/a[i,i]\n",
    "        i-=1\n",
    "            \n",
    "            \n",
    "    return(x)\n",
    "\n",
    "\n",
    "# initialization\n",
    "a=np.array([[3.0,1.0],[1.0,2.0]])\n",
    "b=np.array([9.0,8.0])\n",
    "dimension=2\n",
    "x=gauss(a,b,dimension)\n",
    "print(x)\n",
    "            "
   ]
  },
  {
   "cell_type": "markdown",
   "metadata": {},
   "source": [
    "#### Gauss-Jordan módszer pythonban"
   ]
  },
  {
   "cell_type": "code",
   "execution_count": 1,
   "metadata": {},
   "outputs": [],
   "source": [
    "#TODO: Implementing Gauss-Jordan method\n"
   ]
  },
  {
   "cell_type": "code",
   "execution_count": null,
   "metadata": {},
   "outputs": [],
   "source": []
  }
 ],
 "metadata": {
  "kernelspec": {
   "display_name": "Python 3",
   "language": "python",
   "name": "python3"
  },
  "language_info": {
   "codemirror_mode": {
    "name": "ipython",
    "version": 3
   },
   "file_extension": ".py",
   "mimetype": "text/x-python",
   "name": "python",
   "nbconvert_exporter": "python",
   "pygments_lexer": "ipython3",
   "version": "3.6.9"
  }
 },
 "nbformat": 4,
 "nbformat_minor": 2
}
