{
 "cells": [
  {
   "cell_type": "markdown",
   "metadata": {},
   "source": [
    "# Vektor és mátrix műveletek\n",
    "## Vektor műveletek:"
   ]
  },
  {
   "cell_type": "markdown",
   "metadata": {},
   "source": [
    "Pythonban a *NumPy* csomag használatával könnyedén definiálhatunk vektorokat és mátrixokat.\n",
    "Ahhoz, hogy használhassuk előtte telepíteni kell majd be kell importálni az alábbi módon."
   ]
  },
  {
   "cell_type": "code",
   "execution_count": null,
   "metadata": {},
   "outputs": [],
   "source": [
    "import numpy as np\n"
   ]
  },
  {
   "cell_type": "markdown",
   "metadata": {},
   "source": [
    "Ebben. esetben `np`-vel tudunk hivatkozni a *NumPy* csomagra.\n",
    "A csomagból az `array` metódus segítségével hozhatunk létre vektorokat."
   ]
  },
  {
   "cell_type": "code",
   "execution_count": null,
   "metadata": {},
   "outputs": [],
   "source": [
    "v1 = np.array([1, 2, 3])\n",
    "v2 = np.array([3, 2, 1])\n",
    "v3 = np.array([5, 3, 1, 6])"
   ]
  },
  {
   "cell_type": "markdown",
   "metadata": {},
   "source": [
    "Üres vektort a következőképpen készíthetünk: az `empty` metódusban meg kell adni szögletes zárójelek között egy dimenziót (például: `[1, 3]` ez azt jelenti 1 sort és 3 oszlopot szeretnénk), és esetlegesen megadhatunk neki egy adattípust, hogy milyen adatokkal szeretnénk feltölteni"
   ]
  },
  {
   "cell_type": "markdown",
   "metadata": {},
   "source": [
    "Itt főleg valmilyen numerikus adattípusra hisz ezekkel tudjuk elvégezni a vektor és mátrix műveleteket. Haszálhatjuk a python beépített típusait mint az `int` vagy a `float`, de használhatjuk a *NumPy*-ban definiált kiegészített változatokat amivel megadhatjuk azt például, hogy hány  bájton tároljuk az adott számot. Esetlegesen megadhatunk stringet és bool típust is ha szükség van rá."
   ]
  },
  {
   "cell_type": "code",
   "execution_count": null,
   "metadata": {},
   "outputs": [],
   "source": [
    "int"
   ]
  },
  {
   "cell_type": "code",
   "execution_count": null,
   "metadata": {},
   "outputs": [],
   "source": [
    "float"
   ]
  },
  {
   "cell_type": "code",
   "execution_count": null,
   "metadata": {},
   "outputs": [],
   "source": [
    "bool"
   ]
  },
  {
   "cell_type": "code",
   "execution_count": null,
   "metadata": {},
   "outputs": [],
   "source": [
    "np.int8"
   ]
  },
  {
   "cell_type": "code",
   "execution_count": null,
   "metadata": {},
   "outputs": [],
   "source": [
    "np.uint"
   ]
  },
  {
   "cell_type": "code",
   "execution_count": null,
   "metadata": {},
   "outputs": [],
   "source": [
    "np.float32"
   ]
  },
  {
   "cell_type": "code",
   "execution_count": null,
   "metadata": {},
   "outputs": [],
   "source": [
    "v4 = np.empty([1, 3])\n",
    "print(v4)"
   ]
  },
  {
   "cell_type": "markdown",
   "metadata": {},
   "source": [
    "Ahogy láthatjuk, nem 0-ákkal tölti fel a vektort hanem valamilyen memória szeméttel. Ennek az oka nagyon egyszerű: így gyorsabb, mint ha nullázná az elemeket, de ha 0-ákkal szeretnénk feltölteni használhatjuk a `zeros` metódust mely hasonló képpen működik mint az `empty`:"
   ]
  },
  {
   "cell_type": "code",
   "execution_count": null,
   "metadata": {},
   "outputs": [],
   "source": [
    "v4 = np.zeros([1, 3])\n",
    "print(v4)\n"
   ]
  },
  {
   "cell_type": "markdown",
   "metadata": {},
   "source": [
    "1-esekkel is feltölthetjük ehez a `ones`metódust használhatjuk: "
   ]
  },
  {
   "cell_type": "code",
   "execution_count": null,
   "metadata": {},
   "outputs": [],
   "source": [
    "v4 = np.ones([1, 3])\n",
    "print(v4)"
   ]
  },
  {
   "cell_type": "markdown",
   "metadata": {},
   "source": [
    "Létrehozhatunk egy bizonyos értékkel vagy pszeudóvéletlen (random) számokkal feltöltött vektorokat is :"
   ]
  },
  {
   "cell_type": "code",
   "execution_count": null,
   "metadata": {},
   "outputs": [],
   "source": [
    "v5 = np.random.rand(1, 3)\n",
    "v6 = np.full([1, 3], \"aaa\")\n",
    "print(v5)\n",
    "print(v6)"
   ]
  },
  {
   "cell_type": "markdown",
   "metadata": {},
   "source": [
    "A fent létrehozott `v1`, `v2`, `v3` vektorainkal már egyszerűen elvégezhetőek a vektor műveletek, mint például az összeadás:"
   ]
  },
  {
   "cell_type": "code",
   "execution_count": null,
   "metadata": {},
   "outputs": [],
   "source": [
    "print(v1 + v2)"
   ]
  },
  {
   "cell_type": "markdown",
   "metadata": {},
   "source": [
    "TODO: Úgy általában megnézni, hogy az egyes műveletek esetében milyen hibát kapunk, ha nem stimmel a méret, nincs inverz, ..."
   ]
  },
  {
   "cell_type": "markdown",
   "metadata": {},
   "source": [
    "vagy a kivonás:"
   ]
  },
  {
   "cell_type": "code",
   "execution_count": null,
   "metadata": {},
   "outputs": [],
   "source": [
    "print(v1 - v2)"
   ]
  },
  {
   "cell_type": "markdown",
   "metadata": {},
   "source": [
    "vektoriális szorzás:"
   ]
  },
  {
   "cell_type": "code",
   "execution_count": null,
   "metadata": {},
   "outputs": [],
   "source": [
    "print(np.outer(v1, v2))"
   ]
  },
  {
   "cell_type": "markdown",
   "metadata": {},
   "source": [
    "és a skaláris szorzás:"
   ]
  },
  {
   "cell_type": "code",
   "execution_count": null,
   "metadata": {},
   "outputs": [],
   "source": [
    "print(np.inner(v1, v2))"
   ]
  },
  {
   "cell_type": "markdown",
   "metadata": {},
   "source": [
    "vagy számmal a való szorzás:"
   ]
  },
  {
   "cell_type": "code",
   "execution_count": null,
   "metadata": {},
   "outputs": [],
   "source": [
    "print(v1 * 3)"
   ]
  },
  {
   "cell_type": "markdown",
   "metadata": {},
   "source": [
    "ha egyszerűen a összeszorozzuk a két vektort akkor a megfelelő hely lévő tagokat szorozaz össze:"
   ]
  },
  {
   "cell_type": "code",
   "execution_count": null,
   "metadata": {},
   "outputs": [],
   "source": [
    "print(v1 * v2)"
   ]
  },
  {
   "cell_type": "markdown",
   "metadata": {},
   "source": [
    "Transzponálhatjuk is a vektorainkat a `transpose` metódussal bár vektorok esetén itt nem látványos:"
   ]
  },
  {
   "cell_type": "code",
   "execution_count": null,
   "metadata": {},
   "outputs": [],
   "source": [
    "print(v3)\n",
    "print(v3.transpose())"
   ]
  },
  {
   "cell_type": "markdown",
   "metadata": {},
   "source": [
    "Komolyabb műveletek mint a vektor normák kiszámítása is egyszerű. Vegyük először az 1-es normát:"
   ]
  },
  {
   "cell_type": "code",
   "execution_count": null,
   "metadata": {},
   "outputs": [],
   "source": [
    "print(np.linalg.norm(v1, 1))"
   ]
  },
  {
   "cell_type": "markdown",
   "metadata": {},
   "source": [
    "Itt használtuk a numpy `linalg` csomagját melyben előre definiálva vannak a különbőző lineáris algebrához tartozó műveletek, módszerek. Most nézzük a 2-es és a végtelen normát:"
   ]
  },
  {
   "cell_type": "code",
   "execution_count": null,
   "metadata": {},
   "outputs": [],
   "source": [
    "print(np.linalg.norm(v1, 2))\n",
    "print(np.linalg.norm(v1, np.inf))"
   ]
  },
  {
   "cell_type": "markdown",
   "metadata": {},
   "source": [
    "## Mátrixok:"
   ]
  },
  {
   "cell_type": "markdown",
   "metadata": {},
   "source": [
    "A Mátrixok létrehozása is többféleképpen történhet hasonlóképpen mint a vektoroknál. Először is megadhatjuk mi, hogy milyen mátrixot szeretnénk vagy képezhetjük vektorokból is, estleg a fent megismert `empty, zeros, ones, random.rand, full` metódusoknak megadjuk a nekünk megfelelő dimenziókat."
   ]
  },
  {
   "cell_type": "code",
   "execution_count": null,
   "metadata": {},
   "outputs": [],
   "source": [
    "m1 = np.matrix([[1, 2, 4], [2, 3, 4]])\n",
    "m2 = np.matrix([[1, 2, 8], [2, 3, 9]])\n",
    "m3 = np.matrix([[1, 2], [2, 3], [4, 5]])\n",
    "m4 = np.matrix([[1, 2], [3, 4]])\n",
    "\n",
    "print(\"m1\\n\", m1)\n",
    "print(\"m2\\n\", m2)\n",
    "print(\"m3\\n\", m3)\n",
    "print(\"m4\\n\", m4)"
   ]
  },
  {
   "cell_type": "code",
   "execution_count": null,
   "metadata": {},
   "outputs": [],
   "source": [
    "m = np.arange(16.0)\n",
    "print(m)\n",
    "\n",
    "m =np.arange(16.0).reshape(4, 4)\n",
    "print(m)"
   ]
  },
  {
   "cell_type": "markdown",
   "metadata": {},
   "source": [
    "A `reshape`-nél vigyázni kell, hogy pontosan akkora elemszámú mátrixot adjunk meg mint amekkora a mostani mátrixunké különben hibát kapunk"
   ]
  },
  {
   "cell_type": "code",
   "execution_count": null,
   "metadata": {},
   "outputs": [],
   "source": [
    "m=np.reshape(m,(2,2))"
   ]
  },
  {
   "cell_type": "code",
   "execution_count": null,
   "metadata": {},
   "outputs": [],
   "source": [
    "m=np.reshape(m,(16,16))\n",
    "m"
   ]
  },
  {
   "cell_type": "code",
   "execution_count": null,
   "metadata": {},
   "outputs": [],
   "source": [
    "Ha mégis kissebb vagy nagyobb mátrixot szeretnénk használni át kell másolni az elemeket egyik mátrixból a másikba."
   ]
  },
  {
   "cell_type": "code",
   "execution_count": null,
   "metadata": {},
   "outputs": [],
   "source": [
    "m = np.empty([3, 3])\n",
    "\n",
    "print(m)"
   ]
  },
  {
   "cell_type": "code",
   "execution_count": null,
   "metadata": {},
   "outputs": [],
   "source": [
    "m = np.empty([1, 3])\n",
    "m = np.empty([3])\n",
    "m = np.empty((3,))\n",
    "m"
   ]
  },
  {
   "cell_type": "code",
   "execution_count": null,
   "metadata": {},
   "outputs": [],
   "source": [
    "m = np.zeros([3, 3])\n",
    "\n",
    "print(m)"
   ]
  },
  {
   "cell_type": "code",
   "execution_count": null,
   "metadata": {},
   "outputs": [],
   "source": [
    "m = np.ones([3, 3])\n",
    "\n",
    "print(m)"
   ]
  },
  {
   "cell_type": "code",
   "execution_count": null,
   "metadata": {},
   "outputs": [],
   "source": [
    "m = np.random.rand(3, 3)\n",
    "\n",
    "print(m)"
   ]
  },
  {
   "cell_type": "code",
   "execution_count": null,
   "metadata": {},
   "outputs": [],
   "source": [
    "m = np.full([3, 3], 4)\n",
    "\n",
    "print(m)"
   ]
  },
  {
   "cell_type": "code",
   "execution_count": null,
   "metadata": {},
   "outputs": [],
   "source": [
    "m = np.eye(3)\n",
    "print(m)"
   ]
  },
  {
   "cell_type": "markdown",
   "metadata": {},
   "source": [
    "A vektorokhoz hasonlóan adhatjuk meg a mátrix műveleteket is, mint az összeadást, kivonást, szorzást, normát:"
   ]
  },
  {
   "cell_type": "code",
   "execution_count": null,
   "metadata": {},
   "outputs": [],
   "source": [
    "print(m1 + m2)"
   ]
  },
  {
   "cell_type": "code",
   "execution_count": null,
   "metadata": {},
   "outputs": [],
   "source": [
    "print(m1 - m2)"
   ]
  },
  {
   "cell_type": "code",
   "execution_count": null,
   "metadata": {},
   "outputs": [],
   "source": [
    "print(m1 * m3)"
   ]
  },
  {
   "cell_type": "markdown",
   "metadata": {},
   "source": [
    "Forbenius norma:"
   ]
  },
  {
   "cell_type": "code",
   "execution_count": null,
   "metadata": {},
   "outputs": [],
   "source": [
    "print(np.linalg.norm(m1, 'fro'))"
   ]
  },
  {
   "cell_type": "markdown",
   "metadata": {},
   "source": [
    "Végtelen norma:"
   ]
  },
  {
   "cell_type": "code",
   "execution_count": null,
   "metadata": {},
   "outputs": [],
   "source": [
    "print(np.linalg.norm(m1, np.inf))"
   ]
  },
  {
   "cell_type": "markdown",
   "metadata": {},
   "source": [
    "1-es norma:"
   ]
  },
  {
   "cell_type": "code",
   "execution_count": null,
   "metadata": {},
   "outputs": [],
   "source": [
    "print(np.linalg.norm(m1, 1))"
   ]
  },
  {
   "cell_type": "markdown",
   "metadata": {},
   "source": [
    "2-es norma"
   ]
  },
  {
   "cell_type": "code",
   "execution_count": null,
   "metadata": {},
   "outputs": [],
   "source": [
    "print(np.linalg.norm(m1, 2))"
   ]
  },
  {
   "cell_type": "markdown",
   "metadata": {},
   "source": [
    "A transzponálás is hasonlóan működik:"
   ]
  },
  {
   "cell_type": "code",
   "execution_count": null,
   "metadata": {},
   "outputs": [],
   "source": [
    "print(\"eredeti:\\n\", m3)"
   ]
  },
  {
   "cell_type": "code",
   "execution_count": null,
   "metadata": {},
   "outputs": [],
   "source": [
    "print(\"transzponált:\\n\", m3.transpose())"
   ]
  },
  {
   "cell_type": "markdown",
   "metadata": {},
   "source": [
    "Egy négyzetes mátrix determinánsát is egyszerűen és gyorsan kiszámíthatjuk a `linalg.det` metódussal:"
   ]
  },
  {
   "cell_type": "code",
   "execution_count": null,
   "metadata": {},
   "outputs": [],
   "source": [
    "print(\"m4:\\n\",m4)\n",
    "\n",
    "print(np.linalg.det(m4))"
   ]
  },
  {
   "cell_type": "code",
   "execution_count": null,
   "metadata": {},
   "outputs": [],
   "source": [
    "np.linalg.inv(m4)"
   ]
  },
  {
   "cell_type": "markdown",
   "metadata": {},
   "source": [
    "Egy elemet az `item` metódussal tudunk kiválasztani de figyelni kell, mert az indexelés 0-tól kezdődik:"
   ]
  },
  {
   "cell_type": "code",
   "execution_count": null,
   "metadata": {},
   "outputs": [],
   "source": [
    "print(\"m3\\n\", m3)\n",
    "print(\"m3-as mátrix 2.sor 1. eleme\", m3.item(1, 0))"
   ]
  },
  {
   "cell_type": "markdown",
   "metadata": {},
   "source": [
    "A mátrixokat feldarabolhatjuk a `hsplit` és `vsplit` metúdusok segítségével a `hsplit` oszlopok mentén míg a `vsplit` sorok mentén vágja el a megadott mátrixot"
   ]
  },
  {
   "cell_type": "code",
   "execution_count": null,
   "metadata": {},
   "outputs": [],
   "source": [
    "m = np.arange(16.0).reshape(4, 4)\n",
    "print(m)\n",
    "\n",
    "print(np.hsplit(m, 2),\"\\n\")\n",
    "print(np.vsplit(m, 2),\"\\n\")"
   ]
  },
  {
   "cell_type": "code",
   "execution_count": null,
   "metadata": {},
   "outputs": [],
   "source": [
    "print(m)\n",
    "a, b = np.hsplit(m, 2)\n",
    "print(a)\n",
    "print(b)"
   ]
  },
  {
   "cell_type": "markdown",
   "metadata": {},
   "source": [
    "használhatjuk vágásra az `[]` operátorokat is ha csak egy paramétert adunk meg neki akkor az adott indexű sort kapjuk  vissza, ha használjuk a `:` operátort akkor megadhatunk neki intervallumot is, hogy hanyadik sornál kezdje, megadhatunk neki lépésközt is illetve részeket is kivághatunk egy adott mátrixból "
   ]
  },
  {
   "cell_type": "code",
   "execution_count": null,
   "metadata": {},
   "outputs": [],
   "source": [
    "m[3]"
   ]
  },
  {
   "cell_type": "code",
   "execution_count": null,
   "metadata": {},
   "outputs": [],
   "source": [
    "m[1:3]"
   ]
  },
  {
   "cell_type": "code",
   "execution_count": null,
   "metadata": {},
   "outputs": [],
   "source": [
    "m[:, 1:3]"
   ]
  },
  {
   "cell_type": "code",
   "execution_count": null,
   "metadata": {},
   "outputs": [],
   "source": [
    "m[1:3,1:3]"
   ]
  },
  {
   "cell_type": "markdown",
   "metadata": {},
   "source": [
    "Ha adunk meg neki lépésközt akkor az az utolsó paraméter. Pl: az egész mátrix minden párátlan számú sorának és oszlopának  a közös elemei."
   ]
  },
  {
   "cell_type": "code",
   "execution_count": null,
   "metadata": {},
   "outputs": [],
   "source": [
    "m[0:4:2, 0:4:2]"
   ]
  },
  {
   "cell_type": "markdown",
   "metadata": {},
   "source": [
    "## Mátrix felbontások"
   ]
  },
  {
   "cell_type": "markdown",
   "metadata": {},
   "source": [
    "### LU felbontás "
   ]
  },
  {
   "cell_type": "markdown",
   "metadata": {},
   "source": [
    "Mátrixok LU felbontásásval kinyerhetjük a felső- ,alsóháromszög mátrixot. Pythonban erre használható a`Scipy.linalg.lu` metódus ami a `SciPy` tudományos csomagban találhatunk meg ami egy kiegészítése tulajdon képpen a `NumPy`-nak. Először telepíteni és importálni kell ezt a csomagot és utána használatba lehet venni. Az `lu` metódus végeredményként visszaadja az alsó-, felső-, és a permutáció mátrixokat. "
   ]
  },
  {
   "cell_type": "code",
   "execution_count": null,
   "metadata": {},
   "outputs": [],
   "source": [
    "import scipy as sp\n",
    "m =np.arange(16.0).reshape(4, 4)\n",
    "P, L, U = sp.linalg.lu(m)\n",
    "print(L)"
   ]
  },
  {
   "cell_type": "markdown",
   "metadata": {},
   "source": [
    "### Cholesky felbontás "
   ]
  },
  {
   "cell_type": "markdown",
   "metadata": {},
   "source": [
    "A Cholesky féle felbontásra is találunk beépített metódust a `Numpy`-ban `cholesky` néven a `linalg` csomagban. Cholesky felbontásnál vigyázni kell hogy a mátrixunk szimmetrikus legyen és pozitív definit ellenben hibaüzenetet kapunk. Ugyan ez megtalálható a `SciPy` csomagban is és a különbség az, hogy a `NumPy`-ban lévő metódus az alsó-, addig a `SciPy`-ban lévő a felsőháromszög mátrixot számolja."
   ]
  },
  {
   "cell_type": "code",
   "execution_count": null,
   "metadata": {},
   "outputs": [],
   "source": [
    "#példa olyan esetre mikor a mátrix nem pozitv definit\n",
    "m =np.arange(16.0).reshape(4, 4)\n",
    "L=np.linalg.cholesky(m)\n",
    "print(L)"
   ]
  },
  {
   "cell_type": "code",
   "execution_count": null,
   "metadata": {},
   "outputs": [],
   "source": [
    "#példa jó mátrixra\n",
    "m =np.array([[2,-1,0],[-1,2,-1],[0,-1,2]])\n",
    "L=np.linalg.cholesky(m)\n",
    "print(\"\\nNumPy:\\n\")\n",
    "print(L)\n",
    "print(\"\\nSciPy:\\n\")\n",
    "L=sp.linalg.cholesky(m)\n",
    "print(L)"
   ]
  },
  {
   "cell_type": "markdown",
   "metadata": {},
   "source": [
    "De akár megírhatjuk a saját felbontó függvéníünket is:"
   ]
  },
  {
   "cell_type": "code",
   "execution_count": null,
   "metadata": {},
   "outputs": [],
   "source": [
    "#imports TODO: REVISE IT\n",
    "\n",
    "import numpy as np\n",
    "import scipy as sp\n",
    "\n",
    "#implementation of Cholesky disassembly method\n",
    "\n",
    "def Cholesky(M,dimensions):\n",
    "    P, L, U=sp.linalg.lu(M)\n",
    "    k=0\n",
    "    \n",
    "    while (k<dimensions):\n",
    "        j=0\n",
    "        sum=0\n",
    "        while (j<k-1):\n",
    "            sum=L[k,j]*L[k,j]\n",
    "            j+=1\n",
    "        L[k,k]=np.sqrt(M[k,k]-sum)\n",
    "        i=k+1\n",
    "        while (i<dimensions):\n",
    "            j=0\n",
    "            sum=0\n",
    "            while (j<k-1):\n",
    "                sum=L[i,j]*L[k,j]\n",
    "                j+=1\n",
    "            L[i,k]=(M[i,k]-sum)/L[k,k]\n",
    "            i+=1\n",
    "        k+=1\n",
    "        \n",
    "    return L\n",
    "\n",
    "m =np.array([[2,-1,0],[-1,2,-1],[0,-1,2]])\n",
    "dimension=3\n",
    "l=Cholesky(m,dimension)\n",
    "print(l)\n"
   ]
  },
  {
   "cell_type": "markdown",
   "metadata": {},
   "source": [
    "Mint ahogy láthajuk a metódus megadja egy közelítő megoldását a cholesky felbontásnak."
   ]
  },
  {
   "cell_type": "code",
   "execution_count": null,
   "metadata": {},
   "outputs": [],
   "source": []
  }
 ],
 "metadata": {
  "kernelspec": {
   "display_name": "Python 3",
   "language": "python",
   "name": "python3"
  },
  "language_info": {
   "codemirror_mode": {
    "name": "ipython",
    "version": 3
   },
   "file_extension": ".py",
   "mimetype": "text/x-python",
   "name": "python",
   "nbconvert_exporter": "python",
   "pygments_lexer": "ipython3",
   "version": "3.6.9"
  }
 },
 "nbformat": 4,
 "nbformat_minor": 2
}
