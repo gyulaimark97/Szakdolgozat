{
 "cells": [
  {
   "cell_type": "markdown",
   "metadata": {},
   "source": [
    "# Vektor és mátrix műveletek\n",
    "## Vektor műveletek:"
   ]
  },
  {
   "cell_type": "markdown",
   "metadata": {},
   "source": [
    "A pythonban a NumPy csomag használatával könyedén definiálhatunk vektorokat és mátrixokat,\n",
    "ahoz, hogy használhassuk előtte telepíteni kell majd be kell inportálni az alábbi módon."
   ]
  },
  {
   "cell_type": "code",
   "execution_count": null,
   "metadata": {},
   "outputs": [],
   "source": [
    "import numpy as np"
   ]
  },
  {
   "cell_type": "markdown",
   "metadata": {},
   "source": [
    "Ebben. esetben \"np\"-vel tudunk hivatkozni a NumPy csomagra.\n",
    "A csomagból az array() metúdus segítségével hozhatunk létre vektorokat."
   ]
  },
  {
   "cell_type": "code",
   "execution_count": null,
   "metadata": {},
   "outputs": [],
   "source": [
    "v1 = np.array([1, 2, 3])\n",
    "v2 = np.array([3, 2, 1])\n",
    "v3 = np.array([5, 3, 1, 6])"
   ]
  },
  {
   "cell_type": "markdown",
   "metadata": {},
   "source": [
    "Üres vektort a következő képpen készíthetünk: az empty() metódusban meg kell adni szögletes zárójelek között egy dimenziót (például:[1,3] ez azt jelenti 1 sort és 3 oszlopot szeretnénk) és esetlegesen megadhatunk neki egy adattípust, hogy milyen adatokkal szeretnénk feltölteni"
   ]
  },
  {
   "cell_type": "code",
   "execution_count": null,
   "metadata": {},
   "outputs": [],
   "source": [
    "v4=np.empty([1,3])\n",
    "print(v4)"
   ]
  },
  {
   "cell_type": "markdown",
   "metadata": {},
   "source": [
    "mint látszik nem 0-ákkal tölti fel a vektort hanem valamilyen memória szemét látszik ennek az oka, egyszerű így gyorsabb, de ha 0-ákkal szeretnénk feltölteni használhatjuk a zeros() metódust mely hasonló képpen működik mint az empty():"
   ]
  },
  {
   "cell_type": "code",
   "execution_count": null,
   "metadata": {},
   "outputs": [],
   "source": [
    "v4=np.zeros([1, 3])\n",
    "print(v4)"
   ]
  },
  {
   "cell_type": "markdown",
   "metadata": {},
   "source": [
    "1-esekkel is feltölthetjük ehez a ones() metódust használhatjuk: "
   ]
  },
  {
   "cell_type": "code",
   "execution_count": null,
   "metadata": {},
   "outputs": [],
   "source": [
    "v4=np.ones([1, 3])\n",
    "print(v4)"
   ]
  },
  {
   "cell_type": "markdown",
   "metadata": {},
   "source": [
    "Létrehozhatunk egy bizonyos értékkel vagy random számokkal feltöltött vektorokat is :"
   ]
  },
  {
   "cell_type": "code",
   "execution_count": null,
   "metadata": {},
   "outputs": [],
   "source": [
    "v5=np.random.rand(1,3)\n",
    "v6=np.full([1,3],9)\n",
    "print(v5)\n",
    "print(v6)"
   ]
  },
  {
   "cell_type": "markdown",
   "metadata": {},
   "source": [
    "A fent létrehozott v1, v2, v3 vektorainkal már egyszerűen elvégezhetőek a vektor műveletek, mint például az összeadás:"
   ]
  },
  {
   "cell_type": "code",
   "execution_count": null,
   "metadata": {},
   "outputs": [],
   "source": [
    "print(v1 + v2)"
   ]
  },
  {
   "cell_type": "markdown",
   "metadata": {},
   "source": [
    "vagy a kivonás:"
   ]
  },
  {
   "cell_type": "code",
   "execution_count": null,
   "metadata": {},
   "outputs": [],
   "source": [
    "print(v1 - v2)"
   ]
  },
  {
   "cell_type": "markdown",
   "metadata": {},
   "source": [
    "vektoriális szorzás:"
   ]
  },
  {
   "cell_type": "code",
   "execution_count": null,
   "metadata": {},
   "outputs": [],
   "source": [
    "print(np.outer(v1,v2))"
   ]
  },
  {
   "cell_type": "markdown",
   "metadata": {},
   "source": [
    "és a skaláris szorzás:"
   ]
  },
  {
   "cell_type": "code",
   "execution_count": null,
   "metadata": {},
   "outputs": [],
   "source": [
    "print(np.inner(v1,v2))"
   ]
  },
  {
   "cell_type": "markdown",
   "metadata": {},
   "source": [
    "vagy számmal a való szorzás:"
   ]
  },
  {
   "cell_type": "code",
   "execution_count": null,
   "metadata": {},
   "outputs": [],
   "source": [
    "print(v1*3)"
   ]
  },
  {
   "cell_type": "markdown",
   "metadata": {},
   "source": [
    "ha egyszerűen a összeszorozzuk a két vektort akkor a megfelelő hely lévő tagokat szorozaz össze:"
   ]
  },
  {
   "cell_type": "code",
   "execution_count": null,
   "metadata": {},
   "outputs": [],
   "source": [
    "print(v1*v2)"
   ]
  },
  {
   "cell_type": "markdown",
   "metadata": {},
   "source": [
    "Transzponálhatjuk is a vektorainkat a transpose() metódussal bár vektorok esetén itt nem látványos:"
   ]
  },
  {
   "cell_type": "code",
   "execution_count": null,
   "metadata": {},
   "outputs": [],
   "source": [
    "print(v3)\n",
    "print(v3.transpose())"
   ]
  },
  {
   "cell_type": "markdown",
   "metadata": {},
   "source": [
    "Komolyabb műveletek mint a vektor normák kiszámítása is egyszerű. Vegyük először az 1-es normát:"
   ]
  },
  {
   "cell_type": "code",
   "execution_count": null,
   "metadata": {},
   "outputs": [],
   "source": [
    "print(np.linalg.norm(v1, 1))"
   ]
  },
  {
   "cell_type": "markdown",
   "metadata": {},
   "source": [
    "Itt használtuk a numpy linalg csomagját melyben előre definiálva vannak különbőző lineáris algebrához tartozó műveletek, módszerek. Most nézzük a 2es és a végtelen normát:"
   ]
  },
  {
   "cell_type": "code",
   "execution_count": null,
   "metadata": {},
   "outputs": [],
   "source": [
    "print(np.linalg.norm(v1, 2))\n",
    "print(np.linalg.norm(v1, np.inf))"
   ]
  },
  {
   "cell_type": "markdown",
   "metadata": {},
   "source": [
    "## Mátrixok:"
   ]
  },
  {
   "cell_type": "markdown",
   "metadata": {},
   "source": [
    "A Mátrixok létrehozása is többféleképpen történhet mint a vektoroknál. Először is megadhatjuk mi, hogy milyen mátrixok szeretnénk vagy képezhetjük vektorokból is, estleg a fent megismert empty(), zeros(), ones(), random.rand(), full() metódusoknak megadjuk a nekünk megfelelő dimanziót."
   ]
  },
  {
   "cell_type": "code",
   "execution_count": null,
   "metadata": {},
   "outputs": [],
   "source": [
    "m1 = np.matrix([[1, 2, 4], [2, 3, 4]])\n",
    "m2 = np.matrix([[1, 2, 8], [2, 3, 9]])\n",
    "m3 = np.matrix([[1, 2], [2, 3], [4, 5]])\n",
    "m4 = np.matrix([[1,2],[3,4]])\n",
    "\n",
    "print(\"m1:\\n\", m1)\n",
    "print(\"m2\\n\", m2)\n",
    "print(\"m3\\n\", m3)\n",
    "print(\"m4\\n\", m4)"
   ]
  },
  {
   "cell_type": "code",
   "execution_count": null,
   "metadata": {},
   "outputs": [],
   "source": [
    "m = np.arange(16.0)\n",
    "\n",
    "print(m)\n",
    "\n",
    "m =np.arange(16.0).reshape(4,4)\n",
    "\n",
    "print(m)"
   ]
  },
  {
   "cell_type": "code",
   "execution_count": null,
   "metadata": {},
   "outputs": [],
   "source": [
    "m=np.empty([3,3])\n",
    "\n",
    "print(m)"
   ]
  },
  {
   "cell_type": "code",
   "execution_count": null,
   "metadata": {},
   "outputs": [],
   "source": [
    "m=np.zeros([3,3])\n",
    "\n",
    "print(m)"
   ]
  },
  {
   "cell_type": "code",
   "execution_count": null,
   "metadata": {},
   "outputs": [],
   "source": [
    "m=np.ones([3,3])\n",
    "\n",
    "print(m)"
   ]
  },
  {
   "cell_type": "code",
   "execution_count": null,
   "metadata": {},
   "outputs": [],
   "source": [
    "m=np.random.rand(3,3)\n",
    "\n",
    "print(m)"
   ]
  },
  {
   "cell_type": "code",
   "execution_count": null,
   "metadata": {},
   "outputs": [],
   "source": [
    "m=np.full([3,3], 4)\n",
    "\n",
    "print(m)"
   ]
  },
  {
   "cell_type": "markdown",
   "metadata": {},
   "source": [
    "A vektorokhoz hasonlóan adhatjuk meg a mátrix műveleteket is, mint az összeadást, kivonást, szorzást, normát:"
   ]
  },
  {
   "cell_type": "code",
   "execution_count": null,
   "metadata": {},
   "outputs": [],
   "source": [
    "print(m1 + m2)"
   ]
  },
  {
   "cell_type": "code",
   "execution_count": null,
   "metadata": {},
   "outputs": [],
   "source": [
    "print(m1 - m2)"
   ]
  },
  {
   "cell_type": "code",
   "execution_count": null,
   "metadata": {},
   "outputs": [],
   "source": [
    "print(m1 * m3)"
   ]
  },
  {
   "cell_type": "markdown",
   "metadata": {},
   "source": [
    "Forbenius norma:"
   ]
  },
  {
   "cell_type": "code",
   "execution_count": null,
   "metadata": {},
   "outputs": [],
   "source": [
    "print(np.linalg.norm(m1, 'fro'))"
   ]
  },
  {
   "cell_type": "markdown",
   "metadata": {},
   "source": [
    "Végtelen norma:"
   ]
  },
  {
   "cell_type": "code",
   "execution_count": null,
   "metadata": {},
   "outputs": [],
   "source": [
    "print(np.linalg.norm(m1, np.inf))"
   ]
  },
  {
   "cell_type": "markdown",
   "metadata": {},
   "source": [
    "1-es norma:"
   ]
  },
  {
   "cell_type": "code",
   "execution_count": null,
   "metadata": {},
   "outputs": [],
   "source": [
    "print(np.linalg.norm(m1, 1))"
   ]
  },
  {
   "cell_type": "markdown",
   "metadata": {},
   "source": [
    "2es-es norma"
   ]
  },
  {
   "cell_type": "code",
   "execution_count": null,
   "metadata": {},
   "outputs": [],
   "source": [
    "print(np.linalg.norm(m1, 2))"
   ]
  },
  {
   "cell_type": "markdown",
   "metadata": {},
   "source": [
    "A transzponálás is hasonlóan működik:"
   ]
  },
  {
   "cell_type": "code",
   "execution_count": null,
   "metadata": {},
   "outputs": [],
   "source": [
    "print(\"eredeti:\\n\", m3)"
   ]
  },
  {
   "cell_type": "code",
   "execution_count": null,
   "metadata": {},
   "outputs": [],
   "source": [
    "print(\"transzponált:\\n\", m3.transpose())"
   ]
  },
  {
   "cell_type": "markdown",
   "metadata": {},
   "source": [
    "Egy négyzetes alkú mátrix determinánsát is egyszerűen és gyorsan kiszámlhatjuk a linalg.det() metúdussal:"
   ]
  },
  {
   "cell_type": "code",
   "execution_count": null,
   "metadata": {},
   "outputs": [],
   "source": [
    "print(\"m4:\\n\",m4)\n",
    "\n",
    "print(np.linalg.det(m4))"
   ]
  },
  {
   "cell_type": "markdown",
   "metadata": {},
   "source": [
    "Egy elemet az item metódussal tudunk kiválasztani de figyelni kell, mert az indexelés 0-tól kezdődik:"
   ]
  },
  {
   "cell_type": "code",
   "execution_count": null,
   "metadata": {},
   "outputs": [],
   "source": [
    "print(\"m3\\n\", m3)\n",
    "print(\"m3-as mátrix 2.sor 1. eleme\",m3.item(1, 0))"
   ]
  },
  {
   "cell_type": "markdown",
   "metadata": {},
   "source": [
    "A mátrixokat feldarabolhatjuk a hsplit() és vsplit() metúdusok segítségével a hsplit() oszlopok mentén míg a vsplit() sorok mentén vágja el a megadott mátrixot"
   ]
  },
  {
   "cell_type": "code",
   "execution_count": null,
   "metadata": {},
   "outputs": [],
   "source": [
    "m = np.arange(16.0).reshape(4, 4)\n",
    "print(m)\n",
    "\n",
    "print(np.hsplit(m, 2),\"\\n\")\n",
    "print(np.vsplit(m, 2),\"\\n\")"
   ]
  },
  {
   "cell_type": "code",
   "execution_count": null,
   "metadata": {},
   "outputs": [],
   "source": []
  }
 ],
 "metadata": {
  "kernelspec": {
   "display_name": "Python 3",
   "language": "python",
   "name": "python3"
  },
  "language_info": {
   "codemirror_mode": {
    "name": "ipython",
    "version": 3
   },
   "file_extension": ".py",
   "mimetype": "text/x-python",
   "name": "python",
   "nbconvert_exporter": "python",
   "pygments_lexer": "ipython3",
   "version": "3.6.8"
  }
 },
 "nbformat": 4,
 "nbformat_minor": 2
}
