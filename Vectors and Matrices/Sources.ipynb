{
 "cells": [
  {
   "cell_type": "markdown",
   "metadata": {},
   "source": [
    "# Forrásaim:"
   ]
  },
  {
   "cell_type": "markdown",
   "metadata": {},
   "source": [
    "- https://www.uni-miskolc.hu/~matha/ - anyag a lineáris algebrához\n",
    "- https://docs.scipy.org/doc/ - SciPy dokumentáció\n",
    "- https://numpy.org/doc/ - NumPy dokumentáció\n",
    "- https://www.python.org/ - Python weboldala\n",
    "- https://docs.python.org/3/ - Python dokumentáció\n",
    "- https://pypi.org/project/pip/ - pip (Package installer for Python) dokumentáció\n",
    "- https://www.w3schools.com/Python/default.asp - Python segédanyag\n",
    "- https://jupyter.org/ - Jupyter munkafüzet weboldala\n",
    "- https://www.tiobe.com/tiobe-index/ - programozási nyelvek listája népszerűség szerint\n",
    "- https://hu.wikipedia.org/wiki/Python_(programoz%C3%A1si_nyelv) , https://en.wikipedia.org/wiki/Python_(programming_language) - általánosan a nyelvről"
   ]
  },
  {
   "cell_type": "code",
   "execution_count": null,
   "metadata": {},
   "outputs": [],
   "source": []
  }
 ],
 "metadata": {
  "kernelspec": {
   "display_name": "Python 3",
   "language": "python",
   "name": "python3"
  },
  "language_info": {
   "codemirror_mode": {
    "name": "ipython",
    "version": 3
   },
   "file_extension": ".py",
   "mimetype": "text/x-python",
   "name": "python",
   "nbconvert_exporter": "python",
   "pygments_lexer": "ipython3",
   "version": "3.6.9"
  }
 },
 "nbformat": 4,
 "nbformat_minor": 4
}
