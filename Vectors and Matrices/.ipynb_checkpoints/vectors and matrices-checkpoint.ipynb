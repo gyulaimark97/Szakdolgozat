{
 "cells": [
  {
   "cell_type": "markdown",
   "metadata": {},
   "source": [
    "# Vektor és mátrix műveletek\n",
    "## Vektor műveletek:"
   ]
  },
  {
   "cell_type": "markdown",
   "metadata": {},
   "source": [
    "A pythonban a NumPy csomag használatával könyedén definiálhatunk vektorokat és mátrixokat,\n",
    "ahoz, hogy használhassuk előtte telepíteni kell majd be kell inportálni az alábbi módon."
   ]
  },
  {
   "cell_type": "code",
   "execution_count": 1,
   "metadata": {},
   "outputs": [],
   "source": [
    "import numpy as np"
   ]
  },
  {
   "cell_type": "markdown",
   "metadata": {},
   "source": [
    "Ebben. esetben \"np\"-vel tudunk hivatkozni a NumPy csomagra.\n",
    "A csomagból az array() metúdus segítségével hozhatunk létre vektorokat."
   ]
  },
  {
   "cell_type": "code",
   "execution_count": 2,
   "metadata": {},
   "outputs": [],
   "source": [
    "v1 = np.array([1, 2, 3])\n",
    "v2 = np.array([3, 2, 1])\n",
    "v3 = np.array([5, 3, 1, 6])"
   ]
  },
  {
   "cell_type": "markdown",
   "metadata": {},
   "source": [
    "Üres vektort a következő képpen készíthetünk: az empty() metódusban meg kell adni szögletes zárójelek között egy dimenziót (például:[1,3] ez azt jelenti 1 sort és 3 oszlopot szeretnénk) és esetlegesen megadhatunk neki egy adattípust, hogy milyen adatokkal szeretnénk feltölteni"
   ]
  },
  {
   "cell_type": "code",
   "execution_count": 3,
   "metadata": {},
   "outputs": [
    {
     "name": "stdout",
     "output_type": "stream",
     "text": [
      "[[0.00000000e+000 2.12199579e-314 1.58101007e-322]]\n"
     ]
    }
   ],
   "source": [
    "v4=np.empty([1,3])\n",
    "print(v4)"
   ]
  },
  {
   "cell_type": "markdown",
   "metadata": {},
   "source": [
    "mint látszik nem 0-ákkal tölti fel a vektort hanem valamilyen memória szemét látszik ennek az oka, egyszerű így gyorsabb, de ha 0-ákkal szeretnénk feltölteni használhatjuk a zeros() metódust mely hasonló képpen működik mint az empty():"
   ]
  },
  {
   "cell_type": "code",
   "execution_count": 4,
   "metadata": {},
   "outputs": [
    {
     "name": "stdout",
     "output_type": "stream",
     "text": [
      "[[0. 0. 0.]]\n"
     ]
    }
   ],
   "source": [
    "v4=np.zeros([1, 3])\n",
    "print(v4)"
   ]
  },
  {
   "cell_type": "markdown",
   "metadata": {},
   "source": [
    "1-esekkel is feltölthetjük ehez a ones() metódust használhatjuk: "
   ]
  },
  {
   "cell_type": "code",
   "execution_count": 5,
   "metadata": {},
   "outputs": [
    {
     "name": "stdout",
     "output_type": "stream",
     "text": [
      "[[1. 1. 1.]]\n"
     ]
    }
   ],
   "source": [
    "v4=np.ones([1, 3])\n",
    "print(v4)"
   ]
  },
  {
   "cell_type": "markdown",
   "metadata": {},
   "source": [
    "Létrehozhatunk egy bizonyos értékkel vagy random számokkal feltöltött vektorokat is :"
   ]
  },
  {
   "cell_type": "code",
   "execution_count": 6,
   "metadata": {},
   "outputs": [
    {
     "name": "stdout",
     "output_type": "stream",
     "text": [
      "[[0.65691466 0.75422548 0.2971403 ]]\n",
      "[[9 9 9]]\n"
     ]
    }
   ],
   "source": [
    "v5=np.random.rand(1,3)\n",
    "v6=np.full([1,3],9)\n",
    "print(v5)\n",
    "print(v6)"
   ]
  },
  {
   "cell_type": "markdown",
   "metadata": {},
   "source": [
    "A fent létrehozott v1, v2, v3 vektorainkal már egyszerűen elvégezhetőek a vektor műveletek, mint például az összeadás:"
   ]
  },
  {
   "cell_type": "code",
   "execution_count": 7,
   "metadata": {},
   "outputs": [
    {
     "name": "stdout",
     "output_type": "stream",
     "text": [
      "[4 4 4]\n"
     ]
    }
   ],
   "source": [
    "print(v1 + v2)"
   ]
  },
  {
   "cell_type": "markdown",
   "metadata": {},
   "source": [
    "vagy a kivonás:"
   ]
  },
  {
   "cell_type": "code",
   "execution_count": 8,
   "metadata": {},
   "outputs": [
    {
     "name": "stdout",
     "output_type": "stream",
     "text": [
      "[-2  0  2]\n"
     ]
    }
   ],
   "source": [
    "print(v1 - v2)"
   ]
  },
  {
   "cell_type": "markdown",
   "metadata": {},
   "source": [
    "vektoriális szorzás:"
   ]
  },
  {
   "cell_type": "code",
   "execution_count": 9,
   "metadata": {},
   "outputs": [
    {
     "name": "stdout",
     "output_type": "stream",
     "text": [
      "[[3 2 1]\n",
      " [6 4 2]\n",
      " [9 6 3]]\n"
     ]
    }
   ],
   "source": [
    "print(np.outer(v1,v2))"
   ]
  },
  {
   "cell_type": "markdown",
   "metadata": {},
   "source": [
    "és a skaláris szorzás:"
   ]
  },
  {
   "cell_type": "code",
   "execution_count": 10,
   "metadata": {},
   "outputs": [
    {
     "name": "stdout",
     "output_type": "stream",
     "text": [
      "10\n"
     ]
    }
   ],
   "source": [
    "print(np.inner(v1,v2))"
   ]
  },
  {
   "cell_type": "markdown",
   "metadata": {},
   "source": [
    "vagy számmal a való szorzás:"
   ]
  },
  {
   "cell_type": "code",
   "execution_count": 11,
   "metadata": {},
   "outputs": [
    {
     "name": "stdout",
     "output_type": "stream",
     "text": [
      "[3 6 9]\n"
     ]
    }
   ],
   "source": [
    "print(v1*3)"
   ]
  },
  {
   "cell_type": "markdown",
   "metadata": {},
   "source": [
    "ha egyszerűen a összeszorozzuk a két vektort akkor a megfelelő hely lévő tagokat szorozaz össze:"
   ]
  },
  {
   "cell_type": "code",
   "execution_count": 12,
   "metadata": {},
   "outputs": [
    {
     "name": "stdout",
     "output_type": "stream",
     "text": [
      "[3 4 3]\n"
     ]
    }
   ],
   "source": [
    "print(v1*v2)"
   ]
  },
  {
   "cell_type": "markdown",
   "metadata": {},
   "source": [
    "Transzponálhatjuk is a vektorainkat a transpose() metódussal bár vektorok esetén itt nem látványos:"
   ]
  },
  {
   "cell_type": "code",
   "execution_count": 13,
   "metadata": {},
   "outputs": [
    {
     "name": "stdout",
     "output_type": "stream",
     "text": [
      "[5 3 1 6]\n",
      "[5 3 1 6]\n"
     ]
    }
   ],
   "source": [
    "print(v3)\n",
    "print(v3.transpose())"
   ]
  },
  {
   "cell_type": "markdown",
   "metadata": {},
   "source": [
    "Komolyabb műveletek mint a vektor normák kiszámítása is egyszerű. Vegyük először az 1-es normát:"
   ]
  },
  {
   "cell_type": "code",
   "execution_count": 14,
   "metadata": {},
   "outputs": [
    {
     "name": "stdout",
     "output_type": "stream",
     "text": [
      "6.0\n"
     ]
    }
   ],
   "source": [
    "print(np.linalg.norm(v1, 1))"
   ]
  },
  {
   "cell_type": "markdown",
   "metadata": {},
   "source": [
    "Itt használtuk a numpy linalg csomagját melyben előre definiálva vannak különbőző lineáris algebrához tartozó műveletek, módszerek. Most nézzük a 2es és a végtelen normát:"
   ]
  },
  {
   "cell_type": "code",
   "execution_count": 15,
   "metadata": {},
   "outputs": [
    {
     "name": "stdout",
     "output_type": "stream",
     "text": [
      "3.7416573867739413\n",
      "3.0\n"
     ]
    }
   ],
   "source": [
    "print(np.linalg.norm(v1, 2))\n",
    "print(np.linalg.norm(v1, np.inf))"
   ]
  },
  {
   "cell_type": "markdown",
   "metadata": {},
   "source": [
    "## Mátrixok:"
   ]
  },
  {
   "cell_type": "markdown",
   "metadata": {},
   "source": [
    "A Mátrixok létrehozása is többféleképpen történhet mint a vektoroknál. Először is megadhatjuk mi, hogy milyen mátrixok szeretnénk vagy képezhetjük vektorokból is, estleg a fent megismert empty(), zeros(), ones(), random.rand(), full() metódusoknak megadjuk a nekünk megfelelő dimanziót."
   ]
  },
  {
   "cell_type": "code",
   "execution_count": 49,
   "metadata": {},
   "outputs": [
    {
     "name": "stdout",
     "output_type": "stream",
     "text": [
      "m1:\n",
      " [[1 2 4]\n",
      " [2 3 4]]\n",
      "m2\n",
      " [[1 2 8]\n",
      " [2 3 9]]\n",
      "m3\n",
      " [[1 2]\n",
      " [2 3]\n",
      " [4 5]]\n",
      "m4\n",
      " [[1 2]\n",
      " [3 4]]\n"
     ]
    }
   ],
   "source": [
    "m1 = np.matrix([[1, 2, 4], [2, 3, 4]])\n",
    "m2 = np.matrix([[1, 2, 8], [2, 3, 9]])\n",
    "m3 = np.matrix([[1, 2], [2, 3], [4, 5]])\n",
    "m4 = np.matrix([[1,2],[3,4]])\n",
    "\n",
    "print(\"m1:\\n\", m1)\n",
    "print(\"m2\\n\", m2)\n",
    "print(\"m3\\n\", m3)\n",
    "print(\"m4\\n\", m4)"
   ]
  },
  {
   "cell_type": "code",
   "execution_count": 20,
   "metadata": {},
   "outputs": [
    {
     "name": "stdout",
     "output_type": "stream",
     "text": [
      "[ 0.  1.  2.  3.  4.  5.  6.  7.  8.  9. 10. 11. 12. 13. 14. 15.]\n",
      "[[ 0.  1.  2.  3.]\n",
      " [ 4.  5.  6.  7.]\n",
      " [ 8.  9. 10. 11.]\n",
      " [12. 13. 14. 15.]]\n"
     ]
    }
   ],
   "source": [
    "m = np.arange(16.0)\n",
    "\n",
    "print(m)\n",
    "\n",
    "m =np.arange(16.0).reshape(4,4)\n",
    "\n",
    "print(m)"
   ]
  },
  {
   "cell_type": "code",
   "execution_count": 21,
   "metadata": {},
   "outputs": [
    {
     "name": "stdout",
     "output_type": "stream",
     "text": [
      "[[1.5e-323 9.9e-324 4.9e-324]\n",
      " [3.0e-323 2.0e-323 9.9e-324]\n",
      " [4.4e-323 3.0e-323 1.5e-323]]\n"
     ]
    }
   ],
   "source": [
    "m=np.empty([3,3])\n",
    "\n",
    "print(m)"
   ]
  },
  {
   "cell_type": "code",
   "execution_count": 26,
   "metadata": {},
   "outputs": [
    {
     "name": "stdout",
     "output_type": "stream",
     "text": [
      "[[0. 0. 0.]\n",
      " [0. 0. 0.]\n",
      " [0. 0. 0.]]\n"
     ]
    }
   ],
   "source": [
    "m=np.zeros([3,3])\n",
    "\n",
    "print(m)"
   ]
  },
  {
   "cell_type": "code",
   "execution_count": 25,
   "metadata": {},
   "outputs": [
    {
     "name": "stdout",
     "output_type": "stream",
     "text": [
      "[[1. 1. 1.]\n",
      " [1. 1. 1.]\n",
      " [1. 1. 1.]]\n"
     ]
    }
   ],
   "source": [
    "m=np.ones([3,3])\n",
    "\n",
    "print(m)"
   ]
  },
  {
   "cell_type": "code",
   "execution_count": 24,
   "metadata": {},
   "outputs": [
    {
     "name": "stdout",
     "output_type": "stream",
     "text": [
      "[[0.29823573 0.65542097 0.03986594]\n",
      " [0.3786285  0.80933034 0.25004546]\n",
      " [0.70811745 0.95191617 0.53374811]]\n"
     ]
    }
   ],
   "source": [
    "m=np.random.rand(3,3)\n",
    "\n",
    "print(m)"
   ]
  },
  {
   "cell_type": "code",
   "execution_count": 22,
   "metadata": {},
   "outputs": [
    {
     "name": "stdout",
     "output_type": "stream",
     "text": [
      "[[4 4 4]\n",
      " [4 4 4]\n",
      " [4 4 4]]\n"
     ]
    }
   ],
   "source": [
    "m=np.full([3,3], 4)\n",
    "\n",
    "print(m)"
   ]
  },
  {
   "cell_type": "markdown",
   "metadata": {},
   "source": [
    "A vektorokhoz hasonlóan adhatjuk meg a mátrix műveleteket is, mint az összeadást, kivonást, szorzást, normát:"
   ]
  },
  {
   "cell_type": "code",
   "execution_count": 28,
   "metadata": {},
   "outputs": [
    {
     "name": "stdout",
     "output_type": "stream",
     "text": [
      "[[ 2  4 12]\n",
      " [ 4  6 13]]\n"
     ]
    }
   ],
   "source": [
    "print(m1 + m2)"
   ]
  },
  {
   "cell_type": "code",
   "execution_count": 29,
   "metadata": {},
   "outputs": [
    {
     "name": "stdout",
     "output_type": "stream",
     "text": [
      "[[ 0  0 -4]\n",
      " [ 0  0 -5]]\n"
     ]
    }
   ],
   "source": [
    "print(m1 - m2)"
   ]
  },
  {
   "cell_type": "code",
   "execution_count": 30,
   "metadata": {},
   "outputs": [
    {
     "name": "stdout",
     "output_type": "stream",
     "text": [
      "[[21 28]\n",
      " [24 33]]\n"
     ]
    }
   ],
   "source": [
    "print(m1 * m3)"
   ]
  },
  {
   "cell_type": "markdown",
   "metadata": {},
   "source": [
    "Forbenius norma:"
   ]
  },
  {
   "cell_type": "code",
   "execution_count": 34,
   "metadata": {},
   "outputs": [
    {
     "name": "stdout",
     "output_type": "stream",
     "text": [
      "7.0710678118654755\n"
     ]
    }
   ],
   "source": [
    "print(np.linalg.norm(m1, 'fro'))"
   ]
  },
  {
   "cell_type": "markdown",
   "metadata": {},
   "source": [
    "Végtelen norma:"
   ]
  },
  {
   "cell_type": "code",
   "execution_count": 33,
   "metadata": {},
   "outputs": [
    {
     "name": "stdout",
     "output_type": "stream",
     "text": [
      "9.0\n"
     ]
    }
   ],
   "source": [
    "print(np.linalg.norm(m1, np.inf))"
   ]
  },
  {
   "cell_type": "markdown",
   "metadata": {},
   "source": [
    "1-es norma:"
   ]
  },
  {
   "cell_type": "code",
   "execution_count": 32,
   "metadata": {},
   "outputs": [
    {
     "name": "stdout",
     "output_type": "stream",
     "text": [
      "8.0\n"
     ]
    }
   ],
   "source": [
    "print(np.linalg.norm(m1, 1))"
   ]
  },
  {
   "cell_type": "markdown",
   "metadata": {},
   "source": [
    "2es-es norma"
   ]
  },
  {
   "cell_type": "code",
   "execution_count": 31,
   "metadata": {},
   "outputs": [
    {
     "name": "stdout",
     "output_type": "stream",
     "text": [
      "7.023606632008435\n"
     ]
    }
   ],
   "source": [
    "print(np.linalg.norm(m1, 2))"
   ]
  },
  {
   "cell_type": "markdown",
   "metadata": {},
   "source": [
    "A transzponálás is hasonlóan működik:"
   ]
  },
  {
   "cell_type": "code",
   "execution_count": 35,
   "metadata": {},
   "outputs": [
    {
     "name": "stdout",
     "output_type": "stream",
     "text": [
      "eredeti:\n",
      " [[1 2]\n",
      " [2 3]\n",
      " [4 5]]\n"
     ]
    }
   ],
   "source": [
    "print(\"eredeti:\\n\", m3)"
   ]
  },
  {
   "cell_type": "code",
   "execution_count": 36,
   "metadata": {},
   "outputs": [
    {
     "name": "stdout",
     "output_type": "stream",
     "text": [
      "transzponált:\n",
      " [[1 2 4]\n",
      " [2 3 5]]\n"
     ]
    }
   ],
   "source": [
    "print(\"transzponált:\\n\", m3.transpose())"
   ]
  },
  {
   "cell_type": "markdown",
   "metadata": {},
   "source": [
    "Egy négyzetes alkú mátrix determinánsát is egyszerűen és gyorsan kiszámlhatjuk a linalg.det() metúdussal:"
   ]
  },
  {
   "cell_type": "code",
   "execution_count": 47,
   "metadata": {},
   "outputs": [
    {
     "name": "stdout",
     "output_type": "stream",
     "text": [
      "m4:\n",
      " [[1 2]\n",
      " [3 4]]\n",
      "-2.0000000000000004\n"
     ]
    }
   ],
   "source": [
    "print(\"m4:\\n\",m4)\n",
    "\n",
    "print(np.linalg.det(m4))"
   ]
  },
  {
   "cell_type": "markdown",
   "metadata": {},
   "source": [
    "Egy elemet az item metódussal tudunk kiválasztani de figyelni kell, mert az indexelés 0-tól kezdődik:"
   ]
  },
  {
   "cell_type": "code",
   "execution_count": 53,
   "metadata": {},
   "outputs": [
    {
     "name": "stdout",
     "output_type": "stream",
     "text": [
      "m3\n",
      " [[1 2]\n",
      " [2 3]\n",
      " [4 5]]\n",
      "m3-as mátrix 2.sor 1. eleme 2\n"
     ]
    }
   ],
   "source": [
    "print(\"m3\\n\", m3)\n",
    "print(\"m3-as mátrix 2.sor 1. eleme\",m3.item(1, 0))"
   ]
  },
  {
   "cell_type": "markdown",
   "metadata": {},
   "source": [
    "A mátrixokat feldarabolhatjuk a hsplit() és vsplit() metúdusok segítségével a hsplit() oszlopok mentén míg a vsplit() sorok mentén vágja el a megadott mátrixot"
   ]
  },
  {
   "cell_type": "code",
   "execution_count": 61,
   "metadata": {},
   "outputs": [
    {
     "name": "stdout",
     "output_type": "stream",
     "text": [
      "[[ 0.  1.  2.  3.]\n",
      " [ 4.  5.  6.  7.]\n",
      " [ 8.  9. 10. 11.]\n",
      " [12. 13. 14. 15.]]\n",
      "[array([[ 0.,  1.],\n",
      "       [ 4.,  5.],\n",
      "       [ 8.,  9.],\n",
      "       [12., 13.]]), array([[ 2.,  3.],\n",
      "       [ 6.,  7.],\n",
      "       [10., 11.],\n",
      "       [14., 15.]])] \n",
      "\n",
      "[array([[0., 1., 2., 3.],\n",
      "       [4., 5., 6., 7.]]), array([[ 8.,  9., 10., 11.],\n",
      "       [12., 13., 14., 15.]])] \n",
      "\n"
     ]
    }
   ],
   "source": [
    "m = np.arange(16.0).reshape(4, 4)\n",
    "print(m)\n",
    "\n",
    "print(np.hsplit(m, 2),\"\\n\")\n",
    "print(np.vsplit(m, 2),\"\\n\")"
   ]
  },
  {
   "cell_type": "code",
   "execution_count": null,
   "metadata": {},
   "outputs": [],
   "source": []
  }
 ],
 "metadata": {
  "kernelspec": {
   "display_name": "Python 3",
   "language": "python",
   "name": "python3"
  },
  "language_info": {
   "codemirror_mode": {
    "name": "ipython",
    "version": 3
   },
   "file_extension": ".py",
   "mimetype": "text/x-python",
   "name": "python",
   "nbconvert_exporter": "python",
   "pygments_lexer": "ipython3",
   "version": "3.6.8"
  }
 },
 "nbformat": 4,
 "nbformat_minor": 2
}
